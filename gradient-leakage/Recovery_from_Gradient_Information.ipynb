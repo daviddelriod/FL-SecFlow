{
  "cells": [
    {
      "cell_type": "code",
      "source": [
        "!git clone https://github.com/JonasGeiping/invertinggradients.git\n",
        "import sys\n",
        "sys.path.insert(0,'invertinggradients')"
      ],
      "outputs": [
        {
          "output_type": "stream",
          "name": "stdout",
          "text": "fatal: destination path 'invertinggradients' already exists and is not an empty directory.\r\n"
        }
      ],
      "execution_count": 53,
      "metadata": {
        "colab": {
          "base_uri": "https://localhost:8080/"
        },
        "id": "AhzwFhVo-gV-",
        "outputId": "2f7c21c3-0fb8-4433-cab6-6bba4c0dd630",
        "executionInfo": {
          "status": "ok",
          "timestamp": 1678905839614,
          "user_tz": -60,
          "elapsed": 1094,
          "user": {
            "displayName": "David Del Río Diaz",
            "userId": "12900151453634638293"
          }
        },
        "gather": {
          "logged": 1679311184196
        }
      }
    },
    {
      "cell_type": "code",
      "source": [
        "import inversefed\n",
        "import torch\n",
        "import numpy as np\n",
        "import matplotlib.pyplot as plt\n",
        "\n",
        "import torch\n",
        "import torchvision\n",
        "import torch.nn as nn\n",
        "\n",
        "from torchvision import datasets, models, transforms\n",
        "from torchvision.models.resnet import Bottleneck\n",
        "from collections import OrderedDict\n",
        "#from google.colab import drive\n",
        "from collections import defaultdict\n",
        "from PIL import Image\n",
        "\n",
        "#drive.mount('/content/drive')"
      ],
      "outputs": [],
      "execution_count": 55,
      "metadata": {
        "colab": {
          "base_uri": "https://localhost:8080/"
        },
        "id": "wMrctCnQWvNY",
        "outputId": "53648697-7b13-4045-d0cb-a30f5fcc557a",
        "executionInfo": {
          "status": "ok",
          "timestamp": 1678905863676,
          "user_tz": -60,
          "elapsed": 24065,
          "user": {
            "displayName": "David Del Río Diaz",
            "userId": "12900151453634638293"
          }
        },
        "gather": {
          "logged": 1679311211252
        }
      }
    },
    {
      "cell_type": "markdown",
      "source": [
        "# Choose variants here:"
      ],
      "metadata": {
        "id": "IlKyRih8WvNe"
      }
    },
    {
      "cell_type": "markdown",
      "source": [
        "## System setup:"
      ],
      "metadata": {
        "id": "Zkq8_RKvWvNh"
      }
    },
    {
      "cell_type": "code",
      "source": [
        "model = models.densenet121(pretrained=True) # we will use a pretrained model and we are going to change only the last layer\n",
        "for param in model.parameters():\n",
        "    param.requires_grad = True\n",
        "\n",
        "model.classifier = nn.Sequential(OrderedDict([\n",
        "    ('fcl1', nn.Linear(1024,256)),\n",
        "    ('dp1', nn.Dropout(0.1)),\n",
        "    ('r1', nn.ReLU()),\n",
        "    ('fcl2', nn.Linear(256,32)),\n",
        "    ('dp2', nn.Dropout(0.1)),\n",
        "    ('r2', nn.ReLU()),\n",
        "    ('fcl3', nn.Linear(32,2)),\n",
        "    ('out', nn.LogSoftmax(dim=1)),\n",
        "]))\n",
        "\n",
        "model.to('cuda:0')"
      ],
      "outputs": [
        {
          "output_type": "stream",
          "name": "stderr",
          "text": "/usr/local/lib/python3.9/dist-packages/torchvision/models/_utils.py:208: UserWarning: The parameter 'pretrained' is deprecated since 0.13 and may be removed in the future, please use 'weights' instead.\n  warnings.warn(\n/usr/local/lib/python3.9/dist-packages/torchvision/models/_utils.py:223: UserWarning: Arguments other than a weight enum or `None` for 'weights' are deprecated since 0.13 and may be removed in the future. The current behavior is equivalent to passing `weights=DenseNet121_Weights.IMAGENET1K_V1`. You can also use `weights=DenseNet121_Weights.DEFAULT` to get the most up-to-date weights.\n  warnings.warn(msg)\nDownloading: \"https://download.pytorch.org/models/densenet121-a639ec97.pth\" to /root/.cache/torch/hub/checkpoints/densenet121-a639ec97.pth\n"
        },
        {
          "output_type": "display_data",
          "data": {
            "text/plain": "  0%|          | 0.00/30.8M [00:00<?, ?B/s]",
            "application/vnd.jupyter.widget-view+json": {
              "version_major": 2,
              "version_minor": 0,
              "model_id": "b6f84d571f7a4f3ba76a1f12f1c09d16"
            }
          },
          "metadata": {}
        },
        {
          "output_type": "execute_result",
          "execution_count": 3,
          "data": {
            "text/plain": "DenseNet(\n  (features): Sequential(\n    (conv0): Conv2d(3, 64, kernel_size=(7, 7), stride=(2, 2), padding=(3, 3), bias=False)\n    (norm0): BatchNorm2d(64, eps=1e-05, momentum=0.1, affine=True, track_running_stats=True)\n    (relu0): ReLU(inplace=True)\n    (pool0): MaxPool2d(kernel_size=3, stride=2, padding=1, dilation=1, ceil_mode=False)\n    (denseblock1): _DenseBlock(\n      (denselayer1): _DenseLayer(\n        (norm1): BatchNorm2d(64, eps=1e-05, momentum=0.1, affine=True, track_running_stats=True)\n        (relu1): ReLU(inplace=True)\n        (conv1): Conv2d(64, 128, kernel_size=(1, 1), stride=(1, 1), bias=False)\n        (norm2): BatchNorm2d(128, eps=1e-05, momentum=0.1, affine=True, track_running_stats=True)\n        (relu2): ReLU(inplace=True)\n        (conv2): Conv2d(128, 32, kernel_size=(3, 3), stride=(1, 1), padding=(1, 1), bias=False)\n      )\n      (denselayer2): _DenseLayer(\n        (norm1): BatchNorm2d(96, eps=1e-05, momentum=0.1, affine=True, track_running_stats=True)\n        (relu1): ReLU(inplace=True)\n        (conv1): Conv2d(96, 128, kernel_size=(1, 1), stride=(1, 1), bias=False)\n        (norm2): BatchNorm2d(128, eps=1e-05, momentum=0.1, affine=True, track_running_stats=True)\n        (relu2): ReLU(inplace=True)\n        (conv2): Conv2d(128, 32, kernel_size=(3, 3), stride=(1, 1), padding=(1, 1), bias=False)\n      )\n      (denselayer3): _DenseLayer(\n        (norm1): BatchNorm2d(128, eps=1e-05, momentum=0.1, affine=True, track_running_stats=True)\n        (relu1): ReLU(inplace=True)\n        (conv1): Conv2d(128, 128, kernel_size=(1, 1), stride=(1, 1), bias=False)\n        (norm2): BatchNorm2d(128, eps=1e-05, momentum=0.1, affine=True, track_running_stats=True)\n        (relu2): ReLU(inplace=True)\n        (conv2): Conv2d(128, 32, kernel_size=(3, 3), stride=(1, 1), padding=(1, 1), bias=False)\n      )\n      (denselayer4): _DenseLayer(\n        (norm1): BatchNorm2d(160, eps=1e-05, momentum=0.1, affine=True, track_running_stats=True)\n        (relu1): ReLU(inplace=True)\n        (conv1): Conv2d(160, 128, kernel_size=(1, 1), stride=(1, 1), bias=False)\n        (norm2): BatchNorm2d(128, eps=1e-05, momentum=0.1, affine=True, track_running_stats=True)\n        (relu2): ReLU(inplace=True)\n        (conv2): Conv2d(128, 32, kernel_size=(3, 3), stride=(1, 1), padding=(1, 1), bias=False)\n      )\n      (denselayer5): _DenseLayer(\n        (norm1): BatchNorm2d(192, eps=1e-05, momentum=0.1, affine=True, track_running_stats=True)\n        (relu1): ReLU(inplace=True)\n        (conv1): Conv2d(192, 128, kernel_size=(1, 1), stride=(1, 1), bias=False)\n        (norm2): BatchNorm2d(128, eps=1e-05, momentum=0.1, affine=True, track_running_stats=True)\n        (relu2): ReLU(inplace=True)\n        (conv2): Conv2d(128, 32, kernel_size=(3, 3), stride=(1, 1), padding=(1, 1), bias=False)\n      )\n      (denselayer6): _DenseLayer(\n        (norm1): BatchNorm2d(224, eps=1e-05, momentum=0.1, affine=True, track_running_stats=True)\n        (relu1): ReLU(inplace=True)\n        (conv1): Conv2d(224, 128, kernel_size=(1, 1), stride=(1, 1), bias=False)\n        (norm2): BatchNorm2d(128, eps=1e-05, momentum=0.1, affine=True, track_running_stats=True)\n        (relu2): ReLU(inplace=True)\n        (conv2): Conv2d(128, 32, kernel_size=(3, 3), stride=(1, 1), padding=(1, 1), bias=False)\n      )\n    )\n    (transition1): _Transition(\n      (norm): BatchNorm2d(256, eps=1e-05, momentum=0.1, affine=True, track_running_stats=True)\n      (relu): ReLU(inplace=True)\n      (conv): Conv2d(256, 128, kernel_size=(1, 1), stride=(1, 1), bias=False)\n      (pool): AvgPool2d(kernel_size=2, stride=2, padding=0)\n    )\n    (denseblock2): _DenseBlock(\n      (denselayer1): _DenseLayer(\n        (norm1): BatchNorm2d(128, eps=1e-05, momentum=0.1, affine=True, track_running_stats=True)\n        (relu1): ReLU(inplace=True)\n        (conv1): Conv2d(128, 128, kernel_size=(1, 1), stride=(1, 1), bias=False)\n        (norm2): BatchNorm2d(128, eps=1e-05, momentum=0.1, affine=True, track_running_stats=True)\n        (relu2): ReLU(inplace=True)\n        (conv2): Conv2d(128, 32, kernel_size=(3, 3), stride=(1, 1), padding=(1, 1), bias=False)\n      )\n      (denselayer2): _DenseLayer(\n        (norm1): BatchNorm2d(160, eps=1e-05, momentum=0.1, affine=True, track_running_stats=True)\n        (relu1): ReLU(inplace=True)\n        (conv1): Conv2d(160, 128, kernel_size=(1, 1), stride=(1, 1), bias=False)\n        (norm2): BatchNorm2d(128, eps=1e-05, momentum=0.1, affine=True, track_running_stats=True)\n        (relu2): ReLU(inplace=True)\n        (conv2): Conv2d(128, 32, kernel_size=(3, 3), stride=(1, 1), padding=(1, 1), bias=False)\n      )\n      (denselayer3): _DenseLayer(\n        (norm1): BatchNorm2d(192, eps=1e-05, momentum=0.1, affine=True, track_running_stats=True)\n        (relu1): ReLU(inplace=True)\n        (conv1): Conv2d(192, 128, kernel_size=(1, 1), stride=(1, 1), bias=False)\n        (norm2): BatchNorm2d(128, eps=1e-05, momentum=0.1, affine=True, track_running_stats=True)\n        (relu2): ReLU(inplace=True)\n        (conv2): Conv2d(128, 32, kernel_size=(3, 3), stride=(1, 1), padding=(1, 1), bias=False)\n      )\n      (denselayer4): _DenseLayer(\n        (norm1): BatchNorm2d(224, eps=1e-05, momentum=0.1, affine=True, track_running_stats=True)\n        (relu1): ReLU(inplace=True)\n        (conv1): Conv2d(224, 128, kernel_size=(1, 1), stride=(1, 1), bias=False)\n        (norm2): BatchNorm2d(128, eps=1e-05, momentum=0.1, affine=True, track_running_stats=True)\n        (relu2): ReLU(inplace=True)\n        (conv2): Conv2d(128, 32, kernel_size=(3, 3), stride=(1, 1), padding=(1, 1), bias=False)\n      )\n      (denselayer5): _DenseLayer(\n        (norm1): BatchNorm2d(256, eps=1e-05, momentum=0.1, affine=True, track_running_stats=True)\n        (relu1): ReLU(inplace=True)\n        (conv1): Conv2d(256, 128, kernel_size=(1, 1), stride=(1, 1), bias=False)\n        (norm2): BatchNorm2d(128, eps=1e-05, momentum=0.1, affine=True, track_running_stats=True)\n        (relu2): ReLU(inplace=True)\n        (conv2): Conv2d(128, 32, kernel_size=(3, 3), stride=(1, 1), padding=(1, 1), bias=False)\n      )\n      (denselayer6): _DenseLayer(\n        (norm1): BatchNorm2d(288, eps=1e-05, momentum=0.1, affine=True, track_running_stats=True)\n        (relu1): ReLU(inplace=True)\n        (conv1): Conv2d(288, 128, kernel_size=(1, 1), stride=(1, 1), bias=False)\n        (norm2): BatchNorm2d(128, eps=1e-05, momentum=0.1, affine=True, track_running_stats=True)\n        (relu2): ReLU(inplace=True)\n        (conv2): Conv2d(128, 32, kernel_size=(3, 3), stride=(1, 1), padding=(1, 1), bias=False)\n      )\n      (denselayer7): _DenseLayer(\n        (norm1): BatchNorm2d(320, eps=1e-05, momentum=0.1, affine=True, track_running_stats=True)\n        (relu1): ReLU(inplace=True)\n        (conv1): Conv2d(320, 128, kernel_size=(1, 1), stride=(1, 1), bias=False)\n        (norm2): BatchNorm2d(128, eps=1e-05, momentum=0.1, affine=True, track_running_stats=True)\n        (relu2): ReLU(inplace=True)\n        (conv2): Conv2d(128, 32, kernel_size=(3, 3), stride=(1, 1), padding=(1, 1), bias=False)\n      )\n      (denselayer8): _DenseLayer(\n        (norm1): BatchNorm2d(352, eps=1e-05, momentum=0.1, affine=True, track_running_stats=True)\n        (relu1): ReLU(inplace=True)\n        (conv1): Conv2d(352, 128, kernel_size=(1, 1), stride=(1, 1), bias=False)\n        (norm2): BatchNorm2d(128, eps=1e-05, momentum=0.1, affine=True, track_running_stats=True)\n        (relu2): ReLU(inplace=True)\n        (conv2): Conv2d(128, 32, kernel_size=(3, 3), stride=(1, 1), padding=(1, 1), bias=False)\n      )\n      (denselayer9): _DenseLayer(\n        (norm1): BatchNorm2d(384, eps=1e-05, momentum=0.1, affine=True, track_running_stats=True)\n        (relu1): ReLU(inplace=True)\n        (conv1): Conv2d(384, 128, kernel_size=(1, 1), stride=(1, 1), bias=False)\n        (norm2): BatchNorm2d(128, eps=1e-05, momentum=0.1, affine=True, track_running_stats=True)\n        (relu2): ReLU(inplace=True)\n        (conv2): Conv2d(128, 32, kernel_size=(3, 3), stride=(1, 1), padding=(1, 1), bias=False)\n      )\n      (denselayer10): _DenseLayer(\n        (norm1): BatchNorm2d(416, eps=1e-05, momentum=0.1, affine=True, track_running_stats=True)\n        (relu1): ReLU(inplace=True)\n        (conv1): Conv2d(416, 128, kernel_size=(1, 1), stride=(1, 1), bias=False)\n        (norm2): BatchNorm2d(128, eps=1e-05, momentum=0.1, affine=True, track_running_stats=True)\n        (relu2): ReLU(inplace=True)\n        (conv2): Conv2d(128, 32, kernel_size=(3, 3), stride=(1, 1), padding=(1, 1), bias=False)\n      )\n      (denselayer11): _DenseLayer(\n        (norm1): BatchNorm2d(448, eps=1e-05, momentum=0.1, affine=True, track_running_stats=True)\n        (relu1): ReLU(inplace=True)\n        (conv1): Conv2d(448, 128, kernel_size=(1, 1), stride=(1, 1), bias=False)\n        (norm2): BatchNorm2d(128, eps=1e-05, momentum=0.1, affine=True, track_running_stats=True)\n        (relu2): ReLU(inplace=True)\n        (conv2): Conv2d(128, 32, kernel_size=(3, 3), stride=(1, 1), padding=(1, 1), bias=False)\n      )\n      (denselayer12): _DenseLayer(\n        (norm1): BatchNorm2d(480, eps=1e-05, momentum=0.1, affine=True, track_running_stats=True)\n        (relu1): ReLU(inplace=True)\n        (conv1): Conv2d(480, 128, kernel_size=(1, 1), stride=(1, 1), bias=False)\n        (norm2): BatchNorm2d(128, eps=1e-05, momentum=0.1, affine=True, track_running_stats=True)\n        (relu2): ReLU(inplace=True)\n        (conv2): Conv2d(128, 32, kernel_size=(3, 3), stride=(1, 1), padding=(1, 1), bias=False)\n      )\n    )\n    (transition2): _Transition(\n      (norm): BatchNorm2d(512, eps=1e-05, momentum=0.1, affine=True, track_running_stats=True)\n      (relu): ReLU(inplace=True)\n      (conv): Conv2d(512, 256, kernel_size=(1, 1), stride=(1, 1), bias=False)\n      (pool): AvgPool2d(kernel_size=2, stride=2, padding=0)\n    )\n    (denseblock3): _DenseBlock(\n      (denselayer1): _DenseLayer(\n        (norm1): BatchNorm2d(256, eps=1e-05, momentum=0.1, affine=True, track_running_stats=True)\n        (relu1): ReLU(inplace=True)\n        (conv1): Conv2d(256, 128, kernel_size=(1, 1), stride=(1, 1), bias=False)\n        (norm2): BatchNorm2d(128, eps=1e-05, momentum=0.1, affine=True, track_running_stats=True)\n        (relu2): ReLU(inplace=True)\n        (conv2): Conv2d(128, 32, kernel_size=(3, 3), stride=(1, 1), padding=(1, 1), bias=False)\n      )\n      (denselayer2): _DenseLayer(\n        (norm1): BatchNorm2d(288, eps=1e-05, momentum=0.1, affine=True, track_running_stats=True)\n        (relu1): ReLU(inplace=True)\n        (conv1): Conv2d(288, 128, kernel_size=(1, 1), stride=(1, 1), bias=False)\n        (norm2): BatchNorm2d(128, eps=1e-05, momentum=0.1, affine=True, track_running_stats=True)\n        (relu2): ReLU(inplace=True)\n        (conv2): Conv2d(128, 32, kernel_size=(3, 3), stride=(1, 1), padding=(1, 1), bias=False)\n      )\n      (denselayer3): _DenseLayer(\n        (norm1): BatchNorm2d(320, eps=1e-05, momentum=0.1, affine=True, track_running_stats=True)\n        (relu1): ReLU(inplace=True)\n        (conv1): Conv2d(320, 128, kernel_size=(1, 1), stride=(1, 1), bias=False)\n        (norm2): BatchNorm2d(128, eps=1e-05, momentum=0.1, affine=True, track_running_stats=True)\n        (relu2): ReLU(inplace=True)\n        (conv2): Conv2d(128, 32, kernel_size=(3, 3), stride=(1, 1), padding=(1, 1), bias=False)\n      )\n      (denselayer4): _DenseLayer(\n        (norm1): BatchNorm2d(352, eps=1e-05, momentum=0.1, affine=True, track_running_stats=True)\n        (relu1): ReLU(inplace=True)\n        (conv1): Conv2d(352, 128, kernel_size=(1, 1), stride=(1, 1), bias=False)\n        (norm2): BatchNorm2d(128, eps=1e-05, momentum=0.1, affine=True, track_running_stats=True)\n        (relu2): ReLU(inplace=True)\n        (conv2): Conv2d(128, 32, kernel_size=(3, 3), stride=(1, 1), padding=(1, 1), bias=False)\n      )\n      (denselayer5): _DenseLayer(\n        (norm1): BatchNorm2d(384, eps=1e-05, momentum=0.1, affine=True, track_running_stats=True)\n        (relu1): ReLU(inplace=True)\n        (conv1): Conv2d(384, 128, kernel_size=(1, 1), stride=(1, 1), bias=False)\n        (norm2): BatchNorm2d(128, eps=1e-05, momentum=0.1, affine=True, track_running_stats=True)\n        (relu2): ReLU(inplace=True)\n        (conv2): Conv2d(128, 32, kernel_size=(3, 3), stride=(1, 1), padding=(1, 1), bias=False)\n      )\n      (denselayer6): _DenseLayer(\n        (norm1): BatchNorm2d(416, eps=1e-05, momentum=0.1, affine=True, track_running_stats=True)\n        (relu1): ReLU(inplace=True)\n        (conv1): Conv2d(416, 128, kernel_size=(1, 1), stride=(1, 1), bias=False)\n        (norm2): BatchNorm2d(128, eps=1e-05, momentum=0.1, affine=True, track_running_stats=True)\n        (relu2): ReLU(inplace=True)\n        (conv2): Conv2d(128, 32, kernel_size=(3, 3), stride=(1, 1), padding=(1, 1), bias=False)\n      )\n      (denselayer7): _DenseLayer(\n        (norm1): BatchNorm2d(448, eps=1e-05, momentum=0.1, affine=True, track_running_stats=True)\n        (relu1): ReLU(inplace=True)\n        (conv1): Conv2d(448, 128, kernel_size=(1, 1), stride=(1, 1), bias=False)\n        (norm2): BatchNorm2d(128, eps=1e-05, momentum=0.1, affine=True, track_running_stats=True)\n        (relu2): ReLU(inplace=True)\n        (conv2): Conv2d(128, 32, kernel_size=(3, 3), stride=(1, 1), padding=(1, 1), bias=False)\n      )\n      (denselayer8): _DenseLayer(\n        (norm1): BatchNorm2d(480, eps=1e-05, momentum=0.1, affine=True, track_running_stats=True)\n        (relu1): ReLU(inplace=True)\n        (conv1): Conv2d(480, 128, kernel_size=(1, 1), stride=(1, 1), bias=False)\n        (norm2): BatchNorm2d(128, eps=1e-05, momentum=0.1, affine=True, track_running_stats=True)\n        (relu2): ReLU(inplace=True)\n        (conv2): Conv2d(128, 32, kernel_size=(3, 3), stride=(1, 1), padding=(1, 1), bias=False)\n      )\n      (denselayer9): _DenseLayer(\n        (norm1): BatchNorm2d(512, eps=1e-05, momentum=0.1, affine=True, track_running_stats=True)\n        (relu1): ReLU(inplace=True)\n        (conv1): Conv2d(512, 128, kernel_size=(1, 1), stride=(1, 1), bias=False)\n        (norm2): BatchNorm2d(128, eps=1e-05, momentum=0.1, affine=True, track_running_stats=True)\n        (relu2): ReLU(inplace=True)\n        (conv2): Conv2d(128, 32, kernel_size=(3, 3), stride=(1, 1), padding=(1, 1), bias=False)\n      )\n      (denselayer10): _DenseLayer(\n        (norm1): BatchNorm2d(544, eps=1e-05, momentum=0.1, affine=True, track_running_stats=True)\n        (relu1): ReLU(inplace=True)\n        (conv1): Conv2d(544, 128, kernel_size=(1, 1), stride=(1, 1), bias=False)\n        (norm2): BatchNorm2d(128, eps=1e-05, momentum=0.1, affine=True, track_running_stats=True)\n        (relu2): ReLU(inplace=True)\n        (conv2): Conv2d(128, 32, kernel_size=(3, 3), stride=(1, 1), padding=(1, 1), bias=False)\n      )\n      (denselayer11): _DenseLayer(\n        (norm1): BatchNorm2d(576, eps=1e-05, momentum=0.1, affine=True, track_running_stats=True)\n        (relu1): ReLU(inplace=True)\n        (conv1): Conv2d(576, 128, kernel_size=(1, 1), stride=(1, 1), bias=False)\n        (norm2): BatchNorm2d(128, eps=1e-05, momentum=0.1, affine=True, track_running_stats=True)\n        (relu2): ReLU(inplace=True)\n        (conv2): Conv2d(128, 32, kernel_size=(3, 3), stride=(1, 1), padding=(1, 1), bias=False)\n      )\n      (denselayer12): _DenseLayer(\n        (norm1): BatchNorm2d(608, eps=1e-05, momentum=0.1, affine=True, track_running_stats=True)\n        (relu1): ReLU(inplace=True)\n        (conv1): Conv2d(608, 128, kernel_size=(1, 1), stride=(1, 1), bias=False)\n        (norm2): BatchNorm2d(128, eps=1e-05, momentum=0.1, affine=True, track_running_stats=True)\n        (relu2): ReLU(inplace=True)\n        (conv2): Conv2d(128, 32, kernel_size=(3, 3), stride=(1, 1), padding=(1, 1), bias=False)\n      )\n      (denselayer13): _DenseLayer(\n        (norm1): BatchNorm2d(640, eps=1e-05, momentum=0.1, affine=True, track_running_stats=True)\n        (relu1): ReLU(inplace=True)\n        (conv1): Conv2d(640, 128, kernel_size=(1, 1), stride=(1, 1), bias=False)\n        (norm2): BatchNorm2d(128, eps=1e-05, momentum=0.1, affine=True, track_running_stats=True)\n        (relu2): ReLU(inplace=True)\n        (conv2): Conv2d(128, 32, kernel_size=(3, 3), stride=(1, 1), padding=(1, 1), bias=False)\n      )\n      (denselayer14): _DenseLayer(\n        (norm1): BatchNorm2d(672, eps=1e-05, momentum=0.1, affine=True, track_running_stats=True)\n        (relu1): ReLU(inplace=True)\n        (conv1): Conv2d(672, 128, kernel_size=(1, 1), stride=(1, 1), bias=False)\n        (norm2): BatchNorm2d(128, eps=1e-05, momentum=0.1, affine=True, track_running_stats=True)\n        (relu2): ReLU(inplace=True)\n        (conv2): Conv2d(128, 32, kernel_size=(3, 3), stride=(1, 1), padding=(1, 1), bias=False)\n      )\n      (denselayer15): _DenseLayer(\n        (norm1): BatchNorm2d(704, eps=1e-05, momentum=0.1, affine=True, track_running_stats=True)\n        (relu1): ReLU(inplace=True)\n        (conv1): Conv2d(704, 128, kernel_size=(1, 1), stride=(1, 1), bias=False)\n        (norm2): BatchNorm2d(128, eps=1e-05, momentum=0.1, affine=True, track_running_stats=True)\n        (relu2): ReLU(inplace=True)\n        (conv2): Conv2d(128, 32, kernel_size=(3, 3), stride=(1, 1), padding=(1, 1), bias=False)\n      )\n      (denselayer16): _DenseLayer(\n        (norm1): BatchNorm2d(736, eps=1e-05, momentum=0.1, affine=True, track_running_stats=True)\n        (relu1): ReLU(inplace=True)\n        (conv1): Conv2d(736, 128, kernel_size=(1, 1), stride=(1, 1), bias=False)\n        (norm2): BatchNorm2d(128, eps=1e-05, momentum=0.1, affine=True, track_running_stats=True)\n        (relu2): ReLU(inplace=True)\n        (conv2): Conv2d(128, 32, kernel_size=(3, 3), stride=(1, 1), padding=(1, 1), bias=False)\n      )\n      (denselayer17): _DenseLayer(\n        (norm1): BatchNorm2d(768, eps=1e-05, momentum=0.1, affine=True, track_running_stats=True)\n        (relu1): ReLU(inplace=True)\n        (conv1): Conv2d(768, 128, kernel_size=(1, 1), stride=(1, 1), bias=False)\n        (norm2): BatchNorm2d(128, eps=1e-05, momentum=0.1, affine=True, track_running_stats=True)\n        (relu2): ReLU(inplace=True)\n        (conv2): Conv2d(128, 32, kernel_size=(3, 3), stride=(1, 1), padding=(1, 1), bias=False)\n      )\n      (denselayer18): _DenseLayer(\n        (norm1): BatchNorm2d(800, eps=1e-05, momentum=0.1, affine=True, track_running_stats=True)\n        (relu1): ReLU(inplace=True)\n        (conv1): Conv2d(800, 128, kernel_size=(1, 1), stride=(1, 1), bias=False)\n        (norm2): BatchNorm2d(128, eps=1e-05, momentum=0.1, affine=True, track_running_stats=True)\n        (relu2): ReLU(inplace=True)\n        (conv2): Conv2d(128, 32, kernel_size=(3, 3), stride=(1, 1), padding=(1, 1), bias=False)\n      )\n      (denselayer19): _DenseLayer(\n        (norm1): BatchNorm2d(832, eps=1e-05, momentum=0.1, affine=True, track_running_stats=True)\n        (relu1): ReLU(inplace=True)\n        (conv1): Conv2d(832, 128, kernel_size=(1, 1), stride=(1, 1), bias=False)\n        (norm2): BatchNorm2d(128, eps=1e-05, momentum=0.1, affine=True, track_running_stats=True)\n        (relu2): ReLU(inplace=True)\n        (conv2): Conv2d(128, 32, kernel_size=(3, 3), stride=(1, 1), padding=(1, 1), bias=False)\n      )\n      (denselayer20): _DenseLayer(\n        (norm1): BatchNorm2d(864, eps=1e-05, momentum=0.1, affine=True, track_running_stats=True)\n        (relu1): ReLU(inplace=True)\n        (conv1): Conv2d(864, 128, kernel_size=(1, 1), stride=(1, 1), bias=False)\n        (norm2): BatchNorm2d(128, eps=1e-05, momentum=0.1, affine=True, track_running_stats=True)\n        (relu2): ReLU(inplace=True)\n        (conv2): Conv2d(128, 32, kernel_size=(3, 3), stride=(1, 1), padding=(1, 1), bias=False)\n      )\n      (denselayer21): _DenseLayer(\n        (norm1): BatchNorm2d(896, eps=1e-05, momentum=0.1, affine=True, track_running_stats=True)\n        (relu1): ReLU(inplace=True)\n        (conv1): Conv2d(896, 128, kernel_size=(1, 1), stride=(1, 1), bias=False)\n        (norm2): BatchNorm2d(128, eps=1e-05, momentum=0.1, affine=True, track_running_stats=True)\n        (relu2): ReLU(inplace=True)\n        (conv2): Conv2d(128, 32, kernel_size=(3, 3), stride=(1, 1), padding=(1, 1), bias=False)\n      )\n      (denselayer22): _DenseLayer(\n        (norm1): BatchNorm2d(928, eps=1e-05, momentum=0.1, affine=True, track_running_stats=True)\n        (relu1): ReLU(inplace=True)\n        (conv1): Conv2d(928, 128, kernel_size=(1, 1), stride=(1, 1), bias=False)\n        (norm2): BatchNorm2d(128, eps=1e-05, momentum=0.1, affine=True, track_running_stats=True)\n        (relu2): ReLU(inplace=True)\n        (conv2): Conv2d(128, 32, kernel_size=(3, 3), stride=(1, 1), padding=(1, 1), bias=False)\n      )\n      (denselayer23): _DenseLayer(\n        (norm1): BatchNorm2d(960, eps=1e-05, momentum=0.1, affine=True, track_running_stats=True)\n        (relu1): ReLU(inplace=True)\n        (conv1): Conv2d(960, 128, kernel_size=(1, 1), stride=(1, 1), bias=False)\n        (norm2): BatchNorm2d(128, eps=1e-05, momentum=0.1, affine=True, track_running_stats=True)\n        (relu2): ReLU(inplace=True)\n        (conv2): Conv2d(128, 32, kernel_size=(3, 3), stride=(1, 1), padding=(1, 1), bias=False)\n      )\n      (denselayer24): _DenseLayer(\n        (norm1): BatchNorm2d(992, eps=1e-05, momentum=0.1, affine=True, track_running_stats=True)\n        (relu1): ReLU(inplace=True)\n        (conv1): Conv2d(992, 128, kernel_size=(1, 1), stride=(1, 1), bias=False)\n        (norm2): BatchNorm2d(128, eps=1e-05, momentum=0.1, affine=True, track_running_stats=True)\n        (relu2): ReLU(inplace=True)\n        (conv2): Conv2d(128, 32, kernel_size=(3, 3), stride=(1, 1), padding=(1, 1), bias=False)\n      )\n    )\n    (transition3): _Transition(\n      (norm): BatchNorm2d(1024, eps=1e-05, momentum=0.1, affine=True, track_running_stats=True)\n      (relu): ReLU(inplace=True)\n      (conv): Conv2d(1024, 512, kernel_size=(1, 1), stride=(1, 1), bias=False)\n      (pool): AvgPool2d(kernel_size=2, stride=2, padding=0)\n    )\n    (denseblock4): _DenseBlock(\n      (denselayer1): _DenseLayer(\n        (norm1): BatchNorm2d(512, eps=1e-05, momentum=0.1, affine=True, track_running_stats=True)\n        (relu1): ReLU(inplace=True)\n        (conv1): Conv2d(512, 128, kernel_size=(1, 1), stride=(1, 1), bias=False)\n        (norm2): BatchNorm2d(128, eps=1e-05, momentum=0.1, affine=True, track_running_stats=True)\n        (relu2): ReLU(inplace=True)\n        (conv2): Conv2d(128, 32, kernel_size=(3, 3), stride=(1, 1), padding=(1, 1), bias=False)\n      )\n      (denselayer2): _DenseLayer(\n        (norm1): BatchNorm2d(544, eps=1e-05, momentum=0.1, affine=True, track_running_stats=True)\n        (relu1): ReLU(inplace=True)\n        (conv1): Conv2d(544, 128, kernel_size=(1, 1), stride=(1, 1), bias=False)\n        (norm2): BatchNorm2d(128, eps=1e-05, momentum=0.1, affine=True, track_running_stats=True)\n        (relu2): ReLU(inplace=True)\n        (conv2): Conv2d(128, 32, kernel_size=(3, 3), stride=(1, 1), padding=(1, 1), bias=False)\n      )\n      (denselayer3): _DenseLayer(\n        (norm1): BatchNorm2d(576, eps=1e-05, momentum=0.1, affine=True, track_running_stats=True)\n        (relu1): ReLU(inplace=True)\n        (conv1): Conv2d(576, 128, kernel_size=(1, 1), stride=(1, 1), bias=False)\n        (norm2): BatchNorm2d(128, eps=1e-05, momentum=0.1, affine=True, track_running_stats=True)\n        (relu2): ReLU(inplace=True)\n        (conv2): Conv2d(128, 32, kernel_size=(3, 3), stride=(1, 1), padding=(1, 1), bias=False)\n      )\n      (denselayer4): _DenseLayer(\n        (norm1): BatchNorm2d(608, eps=1e-05, momentum=0.1, affine=True, track_running_stats=True)\n        (relu1): ReLU(inplace=True)\n        (conv1): Conv2d(608, 128, kernel_size=(1, 1), stride=(1, 1), bias=False)\n        (norm2): BatchNorm2d(128, eps=1e-05, momentum=0.1, affine=True, track_running_stats=True)\n        (relu2): ReLU(inplace=True)\n        (conv2): Conv2d(128, 32, kernel_size=(3, 3), stride=(1, 1), padding=(1, 1), bias=False)\n      )\n      (denselayer5): _DenseLayer(\n        (norm1): BatchNorm2d(640, eps=1e-05, momentum=0.1, affine=True, track_running_stats=True)\n        (relu1): ReLU(inplace=True)\n        (conv1): Conv2d(640, 128, kernel_size=(1, 1), stride=(1, 1), bias=False)\n        (norm2): BatchNorm2d(128, eps=1e-05, momentum=0.1, affine=True, track_running_stats=True)\n        (relu2): ReLU(inplace=True)\n        (conv2): Conv2d(128, 32, kernel_size=(3, 3), stride=(1, 1), padding=(1, 1), bias=False)\n      )\n      (denselayer6): _DenseLayer(\n        (norm1): BatchNorm2d(672, eps=1e-05, momentum=0.1, affine=True, track_running_stats=True)\n        (relu1): ReLU(inplace=True)\n        (conv1): Conv2d(672, 128, kernel_size=(1, 1), stride=(1, 1), bias=False)\n        (norm2): BatchNorm2d(128, eps=1e-05, momentum=0.1, affine=True, track_running_stats=True)\n        (relu2): ReLU(inplace=True)\n        (conv2): Conv2d(128, 32, kernel_size=(3, 3), stride=(1, 1), padding=(1, 1), bias=False)\n      )\n      (denselayer7): _DenseLayer(\n        (norm1): BatchNorm2d(704, eps=1e-05, momentum=0.1, affine=True, track_running_stats=True)\n        (relu1): ReLU(inplace=True)\n        (conv1): Conv2d(704, 128, kernel_size=(1, 1), stride=(1, 1), bias=False)\n        (norm2): BatchNorm2d(128, eps=1e-05, momentum=0.1, affine=True, track_running_stats=True)\n        (relu2): ReLU(inplace=True)\n        (conv2): Conv2d(128, 32, kernel_size=(3, 3), stride=(1, 1), padding=(1, 1), bias=False)\n      )\n      (denselayer8): _DenseLayer(\n        (norm1): BatchNorm2d(736, eps=1e-05, momentum=0.1, affine=True, track_running_stats=True)\n        (relu1): ReLU(inplace=True)\n        (conv1): Conv2d(736, 128, kernel_size=(1, 1), stride=(1, 1), bias=False)\n        (norm2): BatchNorm2d(128, eps=1e-05, momentum=0.1, affine=True, track_running_stats=True)\n        (relu2): ReLU(inplace=True)\n        (conv2): Conv2d(128, 32, kernel_size=(3, 3), stride=(1, 1), padding=(1, 1), bias=False)\n      )\n      (denselayer9): _DenseLayer(\n        (norm1): BatchNorm2d(768, eps=1e-05, momentum=0.1, affine=True, track_running_stats=True)\n        (relu1): ReLU(inplace=True)\n        (conv1): Conv2d(768, 128, kernel_size=(1, 1), stride=(1, 1), bias=False)\n        (norm2): BatchNorm2d(128, eps=1e-05, momentum=0.1, affine=True, track_running_stats=True)\n        (relu2): ReLU(inplace=True)\n        (conv2): Conv2d(128, 32, kernel_size=(3, 3), stride=(1, 1), padding=(1, 1), bias=False)\n      )\n      (denselayer10): _DenseLayer(\n        (norm1): BatchNorm2d(800, eps=1e-05, momentum=0.1, affine=True, track_running_stats=True)\n        (relu1): ReLU(inplace=True)\n        (conv1): Conv2d(800, 128, kernel_size=(1, 1), stride=(1, 1), bias=False)\n        (norm2): BatchNorm2d(128, eps=1e-05, momentum=0.1, affine=True, track_running_stats=True)\n        (relu2): ReLU(inplace=True)\n        (conv2): Conv2d(128, 32, kernel_size=(3, 3), stride=(1, 1), padding=(1, 1), bias=False)\n      )\n      (denselayer11): _DenseLayer(\n        (norm1): BatchNorm2d(832, eps=1e-05, momentum=0.1, affine=True, track_running_stats=True)\n        (relu1): ReLU(inplace=True)\n        (conv1): Conv2d(832, 128, kernel_size=(1, 1), stride=(1, 1), bias=False)\n        (norm2): BatchNorm2d(128, eps=1e-05, momentum=0.1, affine=True, track_running_stats=True)\n        (relu2): ReLU(inplace=True)\n        (conv2): Conv2d(128, 32, kernel_size=(3, 3), stride=(1, 1), padding=(1, 1), bias=False)\n      )\n      (denselayer12): _DenseLayer(\n        (norm1): BatchNorm2d(864, eps=1e-05, momentum=0.1, affine=True, track_running_stats=True)\n        (relu1): ReLU(inplace=True)\n        (conv1): Conv2d(864, 128, kernel_size=(1, 1), stride=(1, 1), bias=False)\n        (norm2): BatchNorm2d(128, eps=1e-05, momentum=0.1, affine=True, track_running_stats=True)\n        (relu2): ReLU(inplace=True)\n        (conv2): Conv2d(128, 32, kernel_size=(3, 3), stride=(1, 1), padding=(1, 1), bias=False)\n      )\n      (denselayer13): _DenseLayer(\n        (norm1): BatchNorm2d(896, eps=1e-05, momentum=0.1, affine=True, track_running_stats=True)\n        (relu1): ReLU(inplace=True)\n        (conv1): Conv2d(896, 128, kernel_size=(1, 1), stride=(1, 1), bias=False)\n        (norm2): BatchNorm2d(128, eps=1e-05, momentum=0.1, affine=True, track_running_stats=True)\n        (relu2): ReLU(inplace=True)\n        (conv2): Conv2d(128, 32, kernel_size=(3, 3), stride=(1, 1), padding=(1, 1), bias=False)\n      )\n      (denselayer14): _DenseLayer(\n        (norm1): BatchNorm2d(928, eps=1e-05, momentum=0.1, affine=True, track_running_stats=True)\n        (relu1): ReLU(inplace=True)\n        (conv1): Conv2d(928, 128, kernel_size=(1, 1), stride=(1, 1), bias=False)\n        (norm2): BatchNorm2d(128, eps=1e-05, momentum=0.1, affine=True, track_running_stats=True)\n        (relu2): ReLU(inplace=True)\n        (conv2): Conv2d(128, 32, kernel_size=(3, 3), stride=(1, 1), padding=(1, 1), bias=False)\n      )\n      (denselayer15): _DenseLayer(\n        (norm1): BatchNorm2d(960, eps=1e-05, momentum=0.1, affine=True, track_running_stats=True)\n        (relu1): ReLU(inplace=True)\n        (conv1): Conv2d(960, 128, kernel_size=(1, 1), stride=(1, 1), bias=False)\n        (norm2): BatchNorm2d(128, eps=1e-05, momentum=0.1, affine=True, track_running_stats=True)\n        (relu2): ReLU(inplace=True)\n        (conv2): Conv2d(128, 32, kernel_size=(3, 3), stride=(1, 1), padding=(1, 1), bias=False)\n      )\n      (denselayer16): _DenseLayer(\n        (norm1): BatchNorm2d(992, eps=1e-05, momentum=0.1, affine=True, track_running_stats=True)\n        (relu1): ReLU(inplace=True)\n        (conv1): Conv2d(992, 128, kernel_size=(1, 1), stride=(1, 1), bias=False)\n        (norm2): BatchNorm2d(128, eps=1e-05, momentum=0.1, affine=True, track_running_stats=True)\n        (relu2): ReLU(inplace=True)\n        (conv2): Conv2d(128, 32, kernel_size=(3, 3), stride=(1, 1), padding=(1, 1), bias=False)\n      )\n    )\n    (norm5): BatchNorm2d(1024, eps=1e-05, momentum=0.1, affine=True, track_running_stats=True)\n  )\n  (classifier): Sequential(\n    (fcl1): Linear(in_features=1024, out_features=256, bias=True)\n    (dp1): Dropout(p=0.1, inplace=False)\n    (r1): ReLU()\n    (fcl2): Linear(in_features=256, out_features=32, bias=True)\n    (dp2): Dropout(p=0.1, inplace=False)\n    (r2): ReLU()\n    (fcl3): Linear(in_features=32, out_features=2, bias=True)\n    (out): LogSoftmax(dim=1)\n  )\n)"
          },
          "metadata": {}
        }
      ],
      "execution_count": 3,
      "metadata": {
        "colab": {
          "base_uri": "https://localhost:8080/",
          "height": 1000,
          "referenced_widgets": [
            "b6f84d571f7a4f3ba76a1f12f1c09d16",
            "30c11392c9dd409fb5abb489ccf81161",
            "440d8803c3894f5e830b894974bf7e0b",
            "469658a7ea2d456596d41c7c38d864f9",
            "1ecd3362b1a343b0899c705d3aaf110e",
            "d430a7ee05994126bcad97dd4ca4ed91",
            "b61970cf9b8b4816aa62c71ba7fe1491",
            "1e81101610fe40eab20a98f1dcfd4a67",
            "ca0f3bb640b745c99012b3788851d310",
            "f125b31940b345959c77bb0cac7a7447",
            "aacc8e137f3346488976901179bfedb5"
          ]
        },
        "id": "PpRmGHUeYiyn",
        "outputId": "eb403ea0-5590-439d-de47-340b1e445403",
        "executionInfo": {
          "status": "ok",
          "timestamp": 1678905869818,
          "user_tz": -60,
          "elapsed": 6149,
          "user": {
            "displayName": "David Del Río Diaz",
            "userId": "12900151453634638293"
          }
        }
      }
    },
    {
      "cell_type": "code",
      "source": [
        "inversefed.utils.set_random_seed(0)\n",
        "setup = inversefed.utils.system_startup()\n",
        "\n",
        "model.to(**setup)\n",
        "#model.load_state_dict(torch.load('/content/drive/MyDrive/Colab Notebooks/saved_state.pth'))\n",
        "model.load_state_dict(torch.load('../modelos/0-87_0-315.pth'))    \n",
        "model.eval(); "
      ],
      "outputs": [
        {
          "output_type": "stream",
          "name": "stdout",
          "text": "Currently evaluating -------------------------------:\nMonday, 20. March 2023 11:23AM\nCPUs: 6, GPUs: 1 on aml-kaggle-ddelriod.\nGPU : Tesla K80\n"
        }
      ],
      "execution_count": 56,
      "metadata": {
        "colab": {
          "base_uri": "https://localhost:8080/"
        },
        "id": "n_-tchOXWvNi",
        "outputId": "2476d6b0-0722-4388-f6e0-77953ad1c3e1",
        "executionInfo": {
          "status": "ok",
          "timestamp": 1678905902703,
          "user_tz": -60,
          "elapsed": 737,
          "user": {
            "displayName": "David Del Río Diaz",
            "userId": "12900151453634638293"
          }
        },
        "gather": {
          "logged": 1679311322432
        }
      }
    },
    {
      "cell_type": "code",
      "source": [
        "def plot(tensor):\n",
        "    tensor = tensor.clone().detach()\n",
        "    tensor.mul_(ds).add_(dm).clamp_(0, 1)\n",
        "    if tensor.shape[0] == 1:\n",
        "        return plt.imshow(tensor[0].permute(1, 2, 0).cpu());\n",
        "    else:\n",
        "        fig, axes = plt.subplots(1, tensor.shape[0], figsize=(12, tensor.shape[0]*12))\n",
        "        for i, im in enumerate(tensor):\n",
        "            axes[i].imshow(im.permute(1, 2, 0).cpu());"
      ],
      "outputs": [],
      "execution_count": 57,
      "metadata": {
        "id": "1Sk2CA9BWvNl",
        "executionInfo": {
          "status": "ok",
          "timestamp": 1678905904944,
          "user_tz": -60,
          "elapsed": 1,
          "user": {
            "displayName": "David Del Río Diaz",
            "userId": "12900151453634638293"
          }
        },
        "gather": {
          "logged": 1679311324917
        }
      }
    },
    {
      "cell_type": "markdown",
      "source": [
        "# Reconstruct"
      ],
      "metadata": {
        "id": "ilvYVADtWvNm"
      }
    },
    {
      "cell_type": "markdown",
      "source": [
        "### Build the input (ground-truth) gradient"
      ],
      "metadata": {
        "id": "WvwVBBAEWvNn"
      }
    },
    {
      "cell_type": "code",
      "source": [
        "data_dir = {\n",
        "            'train': './reconstruct-samples/train',\n",
        "            'test': './reconstruct-samples/test',\n",
        "            'valid': './reconstruct-samples/val'\n",
        "            } "
      ],
      "outputs": [],
      "execution_count": 60,
      "metadata": {
        "id": "2SPbuXOKmKV7",
        "executionInfo": {
          "status": "ok",
          "timestamp": 1678906035551,
          "user_tz": -60,
          "elapsed": 3,
          "user": {
            "displayName": "David Del Río Diaz",
            "userId": "12900151453634638293"
          }
        },
        "gather": {
          "logged": 1679311406429
        }
      }
    },
    {
      "cell_type": "markdown",
      "source": [
        "data_dir = {\n",
        "            'train': '/content/drive/MyDrive/Colab Notebooks/chest_xray/train',\n",
        "            'test': '/content/drive/MyDrive/Colab Notebooks/chest_xray/test',\n",
        "            'valid': '/content/drive/MyDrive/Colab Notebooks/chest_xray/val'\n",
        "            } "
      ],
      "metadata": {
        "id": "oTtWLwSemNpL"
      }
    },
    {
      "cell_type": "code",
      "source": [
        "batch_size = 32 # we will set the batch size to 64 \n",
        "\n",
        "data_transforms = {\n",
        "            'train': transforms.Compose([\n",
        "                        transforms.Resize((224, 224)),\n",
        "                        #transforms.CenterCrop(224),\n",
        "                        #transforms.RandomHorizontalFlip(), # randomly flip and rotate\n",
        "                        #transforms.RandomRotation(10),\n",
        "                        transforms.ToTensor(),\n",
        "                        #transforms.Normalize((0.485, 0.456, 0.406), (0.229, 0.224, 0.225)),\n",
        "                    ]),\n",
        "    \n",
        "            'test': transforms.Compose([\n",
        "                        transforms.Resize((224,224)),\n",
        "                        transforms.ToTensor(),\n",
        "                        #transforms.Normalize((0.485, 0.456, 0.406), (0.229, 0.224, 0.225)),\n",
        "                    ]),\n",
        "    \n",
        "            'valid': transforms.Compose([\n",
        "                        transforms.Resize((224,224)),\n",
        "                        transforms.ToTensor(),\n",
        "                        transforms.Normalize((0.485, 0.456, 0.406), (0.229, 0.224, 0.225)),\n",
        "                    ])\n",
        "            }\n",
        "# Load the datasets with ImageFolder\n",
        "\n",
        "data_set={\n",
        "        'train': torchvision.datasets.ImageFolder(data_dir['train'] ,data_transforms['train']),\n",
        "        'test': torchvision.datasets.ImageFolder(data_dir['test'], data_transforms['test']),\n",
        "        'valid': torchvision.datasets.ImageFolder(data_dir['valid'], data_transforms['valid']),\n",
        "         }\n",
        "\n",
        "# Using the image datasets and the trainforms, define the dataloaders\n",
        "data_loader={\n",
        "        'train': torch.utils.data.DataLoader(data_set['train'], batch_size=batch_size,shuffle=False),\n",
        "        'test': torch.utils.data.DataLoader(data_set['test'], batch_size=batch_size,shuffle=False),\n",
        "        'valid': torch.utils.data.DataLoader(data_set['valid'], batch_size=batch_size,shuffle=False),\n",
        "        }"
      ],
      "outputs": [],
      "execution_count": 61,
      "metadata": {
        "id": "rYUBie79nSFJ",
        "executionInfo": {
          "status": "ok",
          "timestamp": 1678909103026,
          "user_tz": -60,
          "elapsed": 469,
          "user": {
            "displayName": "David Del Río Diaz",
            "userId": "12900151453634638293"
          }
        },
        "gather": {
          "logged": 1679311408065
        }
      }
    },
    {
      "cell_type": "code",
      "source": [
        "num_images=1\n",
        "if num_images == 1:\n",
        "    ground_truth_image = torch.as_tensor(np.array(Image.open(\"/content/drive/MyDrive/Colab Notebooks/chest_xray/val/NORMAL/NORMAL2-IM-1427-0001.jpeg\").resize((224, 224), Image.BICUBIC)) / 255, \n",
        "                                         **setup).unsqueeze(0).to('cuda:0')\n",
        "    ground_truth = ground_truth_image.sub(dm).div(ds).unsqueeze(0).contiguous()\n",
        "    labels = torch.as_tensor((1,), device=setup['device'])\n",
        "else:\n",
        "    ground_truth, labels = [], []\n",
        "    idx = 25 # choosen randomly ... just whatever you want\n",
        "    while len(labels) < num_images:\n",
        "        img, label = validloader.dataset[idx]\n",
        "        idx += 1\n",
        "        if label not in labels:\n",
        "            labels.append(torch.as_tensor((label,), device=setup['device']))\n",
        "            ground_truth.append(img.to(**setup))\n",
        "    ground_truth = torch.stack(ground_truth)\n",
        "    labels = torch.cat(labels)"
      ],
      "outputs": [],
      "execution_count": null,
      "metadata": {
        "id": "z_CmpY__WvNo"
      }
    },
    {
      "cell_type": "code",
      "source": [
        "dataiter = iter(data_loader['train']) #antes era la de test\n",
        "images, labels = next(dataiter)\n",
        "images, labels = images.cuda(), labels.cuda()"
      ],
      "outputs": [],
      "execution_count": 62,
      "metadata": {
        "id": "WXymsR8anqc7",
        "executionInfo": {
          "status": "ok",
          "timestamp": 1678909117131,
          "user_tz": -60,
          "elapsed": 4504,
          "user": {
            "displayName": "David Del Río Diaz",
            "userId": "12900151453634638293"
          }
        },
        "gather": {
          "logged": 1679311419431
        }
      }
    },
    {
      "cell_type": "code",
      "source": [
        "criterion = nn.NLLLoss()\n",
        "output = model(images[0].unsqueeze(0))\n",
        "labels = labels[0].unsqueeze(0)\n",
        "target_loss = criterion(output, labels)"
      ],
      "outputs": [],
      "execution_count": 63,
      "metadata": {
        "id": "RixbqGium6ew",
        "executionInfo": {
          "status": "ok",
          "timestamp": 1678909136515,
          "user_tz": -60,
          "elapsed": 12,
          "user": {
            "displayName": "David Del Río Diaz",
            "userId": "12900151453634638293"
          }
        },
        "gather": {
          "logged": 1679311434783
        }
      }
    },
    {
      "cell_type": "code",
      "source": [
        "model.zero_grad()\n",
        "input_gradient = torch.autograd.grad(target_loss, model.parameters())\n",
        "input_gradient = [grad.detach() for grad in input_gradient]"
      ],
      "outputs": [],
      "execution_count": 64,
      "metadata": {
        "id": "jodvhgPZWvNq",
        "executionInfo": {
          "status": "ok",
          "timestamp": 1678909139232,
          "user_tz": -60,
          "elapsed": 300,
          "user": {
            "displayName": "David Del Río Diaz",
            "userId": "12900151453634638293"
          }
        },
        "gather": {
          "logged": 1679311439997
        }
      }
    },
    {
      "cell_type": "code",
      "source": [
        "config = dict(signed=True,\n",
        "              boxed=True,\n",
        "              cost_fn='sim',\n",
        "              indices='def',\n",
        "              weights='equal',\n",
        "              lr=0.1, #default 0.1, antes 0.05 y 0.075 no va mal\n",
        "              optim='sgd',#ojo con sgd\n",
        "              restarts=1,\n",
        "              max_iterations=50000,\n",
        "              total_variation=1e-6, #default6\n",
        "              init='randn',\n",
        "              filter='none',\n",
        "              lr_decay=True,\n",
        "              scoring_choice='loss')\n",
        "\n",
        "num_images = 1\n",
        "dm_values = [0.485, 0.456, 0.406]\n",
        "ds_values = [0.229, 0.224, 0.225]\n",
        "dm = torch.tensor(dm_values).unsqueeze(1).unsqueeze(1).cuda()\n",
        "ds = torch.tensor(ds_values).unsqueeze(1).unsqueeze(1).cuda()\n",
        "\n",
        "rec_machine = inversefed.GradientReconstructor(model, (dm, ds), config, num_images=num_images)\n",
        "output, stats = rec_machine.reconstruct(input_gradient, labels, img_shape=(3, 224, 224))\n",
        "\n",
        "test_mse = (output.detach() - images[0]).pow(2).mean()\n",
        "feat_mse = (model(output.detach())- model(images[0])).pow(2).mean()  \n",
        "test_psnr = inversefed.metrics.psnr(output, images[0], factor=1/ds)\n",
        "\n",
        "plot(output)\n",
        "plt.title(f\"Rec. loss: {stats['opt']:2.4f} | MSE: {test_mse:2.4f} \"\n",
        "          f\"| PSNR: {test_psnr:4.2f} | FMSE: {feat_mse:2.4e} |\");"
      ],
      "outputs": [
        {
          "output_type": "stream",
          "name": "stdout",
          "text": "It: 0. Rec. loss: 0.9451.\nIt: 500. Rec. loss: 0.6939.\nIt: 1000. Rec. loss: 0.7162.\nIt: 1500. Rec. loss: 0.7169.\nIt: 2000. Rec. loss: 0.7016.\nIt: 2500. Rec. loss: 0.7142.\nIt: 3000. Rec. loss: 0.6901.\nIt: 3500. Rec. loss: 0.7071.\nIt: 4000. Rec. loss: 0.6965.\nIt: 4500. Rec. loss: 0.6937.\nIt: 5000. Rec. loss: 0.7103.\nIt: 5500. Rec. loss: 0.7197.\nIt: 6000. Rec. loss: 0.7031.\n"
        }
      ],
      "execution_count": 66,
      "metadata": {
        "colab": {
          "base_uri": "https://localhost:8080/"
        },
        "id": "kr0QgbLUWvNq",
        "outputId": "cde3d300-a767-4efd-eda7-9ebc01db00e1"
      }
    },
    {
      "cell_type": "code",
      "source": [
        "plot(output)"
      ],
      "outputs": [
        {
          "output_type": "execute_result",
          "execution_count": 40,
          "data": {
            "text/plain": "<matplotlib.image.AxesImage at 0x7f6cc98f0af0>"
          },
          "metadata": {}
        },
        {
          "output_type": "display_data",
          "data": {
            "text/plain": "<Figure size 432x288 with 1 Axes>",
            "image/png": "[encoded data removed]"
          },
          "metadata": {
            "needs_background": "light"
          }
        }
      ],
      "execution_count": 40,
      "metadata": {
        "id": "C47z64n-Af7_",
        "colab": {
          "base_uri": "https://localhost:8080/",
          "height": 287
        },
        "executionInfo": {
          "status": "ok",
          "timestamp": 1678917604411,
          "user_tz": -60,
          "elapsed": 1386,
          "user": {
            "displayName": "David Del Río Diaz",
            "userId": "12900151453634638293"
          }
        },
        "outputId": "fb8e2634-4e55-4243-ddd6-af082a9334c0"
      }
    },
    {
      "cell_type": "code",
      "source": [
        "data = inversefed.metrics.activation_errors(model, output, ground_truth)\n",
        "\n",
        "fig, axes = plt.subplots(2, 3, sharey=False, figsize=(14,8))\n",
        "axes[0, 0].semilogy(list(data['se'].values())[:-3])\n",
        "axes[0, 0].set_title('SE')\n",
        "axes[0, 1].semilogy(list(data['mse'].values())[:-3])\n",
        "axes[0, 1].set_title('MSE')\n",
        "axes[0, 2].plot(list(data['sim'].values())[:-3])\n",
        "axes[0, 2].set_title('Similarity')\n",
        "\n",
        "convs = [val for key, val in data['mse'].items() if 'conv' in key]\n",
        "axes[1, 0].semilogy(convs)\n",
        "axes[1, 0].set_title('MSE - conv layers')\n",
        "convs = [val for key, val in data['mse'].items() if 'conv1' in key]\n",
        "axes[1, 1].semilogy(convs)\n",
        "convs = [val for key, val in data['mse'].items() if 'conv2' in key]\n",
        "axes[1, 1].semilogy(convs)\n",
        "axes[1, 1].set_title('MSE - conv1 vs conv2 layers')\n",
        "bns = [val for key, val in data['mse'].items() if 'bn' in key]\n",
        "axes[1, 2].plot(bns)\n",
        "axes[1, 2].set_title('MSE - bn layers')\n",
        "fig.suptitle('Error between layers');"
      ],
      "outputs": [
        {
          "output_type": "display_data",
          "data": {
            "image/png": "[encoded data removed]",
            "text/plain": "<Figure size 1008x576 with 6 Axes>"
          },
          "metadata": {
            "needs_background": "light"
          }
        }
      ],
      "execution_count": null,
      "metadata": {
        "id": "Rd5jLO9LWvNr",
        "outputId": "8735ad66-dc19-4d17-ce87-7c000687bf84"
      }
    },
    {
      "cell_type": "code",
      "source": [
        "\"\"\"Mechanisms for image reconstruction from parameter gradients.\"\"\"\n",
        "\n",
        "import torch\n",
        "from collections import defaultdict, OrderedDict\n",
        "from inversefed.nn import MetaMonkey\n",
        "from inversefed.metrics import total_variation as TV\n",
        "from inversefed.metrics import InceptionScore\n",
        "from inversefed.medianfilt import MedianPool2d\n",
        "from copy import deepcopy\n",
        "\n",
        "import time\n",
        "\n",
        "DEFAULT_CONFIG = dict(signed=False,\n",
        "                      boxed=True,\n",
        "                      cost_fn='sim',\n",
        "                      indices='def',\n",
        "                      weights='equal',\n",
        "                      lr=0.1,\n",
        "                      optim='adam',\n",
        "                      restarts=1,\n",
        "                      max_iterations=4800,\n",
        "                      total_variation=1e-1,\n",
        "                      init='randn',\n",
        "                      filter='none',\n",
        "                      lr_decay=True,\n",
        "                      scoring_choice='loss')\n",
        "\n",
        "def _label_to_onehot(target, num_classes=100):\n",
        "    target = torch.unsqueeze(target, 1)\n",
        "    onehot_target = torch.zeros(target.size(0), num_classes, device=target.device)\n",
        "    onehot_target.scatter_(1, target, 1)\n",
        "    return onehot_target\n",
        "\n",
        "def _validate_config(config):\n",
        "    for key in DEFAULT_CONFIG.keys():\n",
        "        if config.get(key) is None:\n",
        "            config[key] = DEFAULT_CONFIG[key]\n",
        "    for key in config.keys():\n",
        "        if DEFAULT_CONFIG.get(key) is None:\n",
        "            raise ValueError(f'Deprecated key in config dict: {key}!')\n",
        "    return config\n",
        "\n",
        "\n",
        "class GradientReconstructor():\n",
        "    \"\"\"Instantiate a reconstruction algorithm.\"\"\"\n",
        "\n",
        "    def __init__(self, model, mean_std=(0.0, 1.0), config=DEFAULT_CONFIG, num_images=1):\n",
        "        \"\"\"Initialize with algorithm setup.\"\"\"\n",
        "        self.config = _validate_config(config)\n",
        "        self.model = model\n",
        "        self.setup = dict(device=next(model.parameters()).device, dtype=next(model.parameters()).dtype)\n",
        "\n",
        "        self.mean_std = mean_std\n",
        "        self.num_images = num_images\n",
        "\n",
        "        if self.config['scoring_choice'] == 'inception':\n",
        "            self.inception = InceptionScore(batch_size=1, setup=self.setup)\n",
        "\n",
        "        self.loss_fn = torch.nn.CrossEntropyLoss(reduction='mean')\n",
        "        self.iDLG = True\n",
        "\n",
        "    def reconstruct(self, input_data, labels, img_shape=(3, 32, 32), dryrun=False, eval=True, tol=None):\n",
        "        \"\"\"Reconstruct image from gradient.\"\"\"\n",
        "        start_time = time.time()\n",
        "        if eval:\n",
        "            self.model.eval()\n",
        "\n",
        "\n",
        "        stats = defaultdict(list)\n",
        "        x = self._init_images(img_shape)\n",
        "        scores = torch.zeros(self.config['restarts'])\n",
        "\n",
        "        if labels is None:\n",
        "            if self.num_images == 1 and self.iDLG:\n",
        "                # iDLG trick:\n",
        "                last_weight_min = torch.argmin(torch.sum(input_data[-2], dim=-1), dim=-1)\n",
        "                labels = last_weight_min.detach().reshape((1,)).requires_grad_(False)\n",
        "                self.reconstruct_label = False\n",
        "            else:\n",
        "                # DLG label recovery\n",
        "                # However this also improves conditioning for some LBFGS cases\n",
        "                self.reconstruct_label = True\n",
        "\n",
        "                def loss_fn(pred, labels):\n",
        "                    labels = torch.nn.functional.softmax(labels, dim=-1)\n",
        "                    return torch.mean(torch.sum(- labels * torch.nn.functional.log_softmax(pred, dim=-1), 1))\n",
        "                self.loss_fn = loss_fn\n",
        "        else:\n",
        "            assert labels.shape[0] == self.num_images\n",
        "            self.reconstruct_label = False\n",
        "\n",
        "        try:\n",
        "            for trial in range(self.config['restarts']):\n",
        "                x_trial, labels = self._run_trial(x[trial], input_data, labels, dryrun=dryrun)\n",
        "                # Finalize\n",
        "                scores[trial] = self._score_trial(x_trial, input_data, labels)\n",
        "                x[trial] = x_trial\n",
        "                if tol is not None and scores[trial] <= tol:\n",
        "                    break\n",
        "                if dryrun:\n",
        "                    break\n",
        "        except KeyboardInterrupt:\n",
        "            print('Trial procedure manually interruped.')\n",
        "            pass\n",
        "\n",
        "        # Choose optimal result:\n",
        "        if self.config['scoring_choice'] in ['pixelmean', 'pixelmedian']:\n",
        "            x_optimal, stats = self._average_trials(x, labels, input_data, stats)\n",
        "        else:\n",
        "            print('Choosing optimal result ...')\n",
        "            scores = scores[torch.isfinite(scores)]  # guard against NaN/-Inf scores?\n",
        "            optimal_index = torch.argmin(scores)\n",
        "            print(f'Optimal result score: {scores[optimal_index]:2.4f}')\n",
        "            stats['opt'] = scores[optimal_index].item()\n",
        "            x_optimal = x[optimal_index]\n",
        "\n",
        "        print(f'Total time: {time.time()-start_time}.')\n",
        "        return x_optimal.detach(), stats\n",
        "\n",
        "    def _init_images(self, img_shape):\n",
        "        if self.config['init'] == 'randn':\n",
        "            return torch.randn((self.config['restarts'], self.num_images, *img_shape), **self.setup)\n",
        "        elif self.config['init'] == 'rand':\n",
        "            return (torch.rand((self.config['restarts'], self.num_images, *img_shape), **self.setup) - 0.5) * 2\n",
        "        elif self.config['init'] == 'zeros':\n",
        "            return torch.zeros((self.config['restarts'], self.num_images, *img_shape), **self.setup)\n",
        "        else:\n",
        "            raise ValueError()\n",
        "\n",
        "    def _run_trial(self, x_trial, input_data, labels, dryrun=False):\n",
        "        x_trial.requires_grad = True\n",
        "        if self.reconstruct_label:\n",
        "            output_test = self.model(x_trial)\n",
        "            labels = torch.randn(output_test.shape[1]).to(**self.setup).requires_grad_(True)\n",
        "\n",
        "            if self.config['optim'] == 'adam':\n",
        "                optimizer = torch.optim.Adam([x_trial, labels], lr=self.config['lr'])\n",
        "            elif self.config['optim'] == 'sgd':  # actually gd\n",
        "                optimizer = torch.optim.SGD([x_trial, labels], lr=0.01, momentum=0.9, nesterov=True)\n",
        "            elif self.config['optim'] == 'LBFGS':\n",
        "                optimizer = torch.optim.LBFGS([x_trial, labels])\n",
        "            else:\n",
        "                raise ValueError()\n",
        "        else:\n",
        "            if self.config['optim'] == 'adam':\n",
        "                optimizer = torch.optim.Adam([x_trial], lr=self.config['lr'])\n",
        "            elif self.config['optim'] == 'sgd':  # actually gd\n",
        "                optimizer = torch.optim.SGD([x_trial], lr=0.01, momentum=0.9, nesterov=True)\n",
        "            elif self.config['optim'] == 'LBFGS':\n",
        "                optimizer = torch.optim.LBFGS([x_trial])\n",
        "            else:\n",
        "                raise ValueError()\n",
        "\n",
        "        max_iterations = self.config['max_iterations']\n",
        "        dm, ds = self.mean_std\n",
        "        if self.config['lr_decay']:\n",
        "            scheduler = torch.optim.lr_scheduler.MultiStepLR(optimizer,\n",
        "                                                             milestones=[max_iterations // 4.5,\n",
        "                                                                         max_iterations // 2.25,\n",
        "                                                                         max_iterations // 1.5,\n",
        "                                                                         max_iterations // 1.125], gamma=0.25)  \n",
        "        try:\n",
        "            for iteration in range(max_iterations):\n",
        "                closure = self._gradient_closure(optimizer, x_trial, input_data, labels)\n",
        "                rec_loss = optimizer.step(closure)\n",
        "                if self.config['lr_decay']:\n",
        "                    scheduler.step()\n",
        "\n",
        "                with torch.no_grad():\n",
        "                    # Project into image space\n",
        "                    if self.config['boxed']:\n",
        "                        x_trial.data = torch.max(torch.min(x_trial, (1 - dm) / ds), -dm / ds)\n",
        "\n",
        "                    if (iteration + 1 == max_iterations) or iteration % 500 == 0:\n",
        "                        print(f'It: {iteration}. Rec. loss: {rec_loss.item():2.4f}.')\n",
        "\n",
        "                    if (iteration + 1) % 500 == 0:\n",
        "                        if self.config['filter'] == 'none':\n",
        "                            pass\n",
        "                        elif self.config['filter'] == 'median':\n",
        "                            x_trial.data = MedianPool2d(kernel_size=3, stride=1, padding=1, same=False)(x_trial)\n",
        "                        else:\n",
        "                            raise ValueError()\n",
        "\n",
        "                if dryrun:\n",
        "                    break\n",
        "        except KeyboardInterrupt:\n",
        "            print(f'Recovery interrupted manually in iteration {iteration}!')\n",
        "            pass\n",
        "        return x_trial.detach(), labels\n",
        "\n",
        "    def _gradient_closure(self, optimizer, x_trial, input_gradient, label):\n",
        "\n",
        "        def closure():\n",
        "            optimizer.zero_grad()\n",
        "            self.model.zero_grad()\n",
        "            loss = self.loss_fn(self.model(x_trial), label)\n",
        "            gradient = torch.autograd.grad(loss, self.model.parameters(), create_graph=True)\n",
        "            rec_loss = reconstruction_costs([gradient], input_gradient,\n",
        "                                            cost_fn=self.config['cost_fn'], indices=self.config['indices'],\n",
        "                                            weights=self.config['weights'])\n",
        "\n",
        "            if self.config['total_variation'] > 0:\n",
        "                rec_loss += self.config['total_variation'] * TV(x_trial)\n",
        "            rec_loss.backward()\n",
        "            if self.config['signed']:\n",
        "                x_trial.grad.sign_()\n",
        "            return rec_loss\n",
        "        return closure\n",
        "\n",
        "    def _score_trial(self, x_trial, input_gradient, label):\n",
        "        if self.config['scoring_choice'] == 'loss':\n",
        "            self.model.zero_grad()\n",
        "            x_trial.grad = None\n",
        "            loss = self.loss_fn(self.model(x_trial), label)\n",
        "            gradient = torch.autograd.grad(loss, self.model.parameters(), create_graph=False)\n",
        "            return reconstruction_costs([gradient], input_gradient,\n",
        "                                        cost_fn=self.config['cost_fn'], indices=self.config['indices'],\n",
        "                                        weights=self.config['weights'])\n",
        "        elif self.config['scoring_choice'] == 'tv':\n",
        "            return TV(x_trial)\n",
        "        elif self.config['scoring_choice'] == 'inception':\n",
        "            # We do not care about diversity here!\n",
        "            return self.inception(x_trial)\n",
        "        elif self.config['scoring_choice'] in ['pixelmean', 'pixelmedian']:\n",
        "            return 0.0\n",
        "        else:\n",
        "            raise ValueError()\n",
        "\n",
        "    def _average_trials(self, x, labels, input_data, stats):\n",
        "        print(f'Computing a combined result via {self.config[\"scoring_choice\"]} ...')\n",
        "        if self.config['scoring_choice'] == 'pixelmedian':\n",
        "            x_optimal, _ = x.median(dim=0, keepdims=False)\n",
        "        elif self.config['scoring_choice'] == 'pixelmean':\n",
        "            x_optimal = x.mean(dim=0, keepdims=False)\n",
        "\n",
        "        self.model.zero_grad()\n",
        "        if self.reconstruct_label:\n",
        "            labels = self.model(x_optimal).softmax(dim=1)\n",
        "        loss = self.loss_fn(self.model(x_optimal), labels)\n",
        "        gradient = torch.autograd.grad(loss, self.model.parameters(), create_graph=False)\n",
        "        stats['opt'] = reconstruction_costs([gradient], input_data,\n",
        "                                            cost_fn=self.config['cost_fn'],\n",
        "                                            indices=self.config['indices'],\n",
        "                                            weights=self.config['weights'])\n",
        "        print(f'Optimal result score: {stats[\"opt\"]:2.4f}')\n",
        "        return x_optimal, stats\n",
        "\n",
        "\n",
        "\n",
        "class FedAvgReconstructor(GradientReconstructor):\n",
        "    \"\"\"Reconstruct an image from weights after n gradient descent steps.\"\"\"\n",
        "\n",
        "    def __init__(self, model, mean_std=(0.0, 1.0), local_steps=2, local_lr=1e-4,\n",
        "                 config=DEFAULT_CONFIG, num_images=1, use_updates=True, batch_size=0):\n",
        "        \"\"\"Initialize with model, (mean, std) and config.\"\"\"\n",
        "        super().__init__(model, mean_std, config, num_images)\n",
        "        self.local_steps = local_steps\n",
        "        self.local_lr = local_lr\n",
        "        self.use_updates = use_updates\n",
        "        self.batch_size = batch_size\n",
        "\n",
        "    def _gradient_closure(self, optimizer, x_trial, input_parameters, labels):\n",
        "        def closure():\n",
        "            optimizer.zero_grad()\n",
        "            self.model.zero_grad()\n",
        "            parameters = loss_steps(self.model, x_trial, labels, loss_fn=self.loss_fn,\n",
        "                                    local_steps=self.local_steps, lr=self.local_lr,\n",
        "                                    use_updates=self.use_updates,\n",
        "                                    batch_size=self.batch_size)\n",
        "            rec_loss = reconstruction_costs([parameters], input_parameters,\n",
        "                                            cost_fn=self.config['cost_fn'], indices=self.config['indices'],\n",
        "                                            weights=self.config['weights'])\n",
        "\n",
        "            if self.config['total_variation'] > 0:\n",
        "                rec_loss += self.config['total_variation'] * TV(x_trial)\n",
        "            rec_loss.backward()\n",
        "            if self.config['signed']:\n",
        "                x_trial.grad.sign_()\n",
        "            return rec_loss\n",
        "        return closure\n",
        "\n",
        "    def _score_trial(self, x_trial, input_parameters, labels):\n",
        "        if self.config['scoring_choice'] == 'loss':\n",
        "            self.model.zero_grad()\n",
        "            parameters = loss_steps(self.model, x_trial, labels, loss_fn=self.loss_fn,\n",
        "                                    local_steps=self.local_steps, lr=self.local_lr, use_updates=self.use_updates)\n",
        "            return reconstruction_costs([parameters], input_parameters,\n",
        "                                        cost_fn=self.config['cost_fn'], indices=self.config['indices'],\n",
        "                                        weights=self.config['weights'])\n",
        "        elif self.config['scoring_choice'] == 'tv':\n",
        "            return TV(x_trial)\n",
        "        elif self.config['scoring_choice'] == 'inception':\n",
        "            # We do not care about diversity here!\n",
        "            return self.inception(x_trial)\n",
        "\n",
        "\n",
        "def loss_steps(model, inputs, labels, loss_fn=torch.nn.CrossEntropyLoss(), lr=1e-4, local_steps=4, use_updates=True, batch_size=0):\n",
        "    \"\"\"Take a few gradient descent steps to fit the model to the given input.\"\"\"\n",
        "    patched_model = MetaMonkey(model)\n",
        "    if use_updates:\n",
        "        patched_model_origin = deepcopy(patched_model)\n",
        "    for i in range(local_steps):\n",
        "        if batch_size == 0:\n",
        "            outputs = patched_model(inputs, patched_model.parameters)\n",
        "            labels_ = labels\n",
        "        else:\n",
        "            idx = i % (inputs.shape[0] // batch_size)\n",
        "            outputs = patched_model(inputs[idx * batch_size:(idx + 1) * batch_size], patched_model.parameters)\n",
        "            labels_ = labels[idx * batch_size:(idx + 1) * batch_size]\n",
        "        loss = loss_fn(outputs, labels_).sum()\n",
        "        grad = torch.autograd.grad(loss, patched_model.parameters.values(),\n",
        "                                   retain_graph=True, create_graph=True, only_inputs=True)\n",
        "\n",
        "        patched_model.parameters = OrderedDict((name, param - lr * grad_part)\n",
        "                                               for ((name, param), grad_part)\n",
        "                                               in zip(patched_model.parameters.items(), grad))\n",
        "\n",
        "    if use_updates:\n",
        "        patched_model.parameters = OrderedDict((name, param - param_origin)\n",
        "                                               for ((name, param), (name_origin, param_origin))\n",
        "                                               in zip(patched_model.parameters.items(), patched_model_origin.parameters.items()))\n",
        "    return list(patched_model.parameters.values())\n",
        "\n",
        "\n",
        "def reconstruction_costs(gradients, input_gradient, cost_fn='l2', indices='def', weights='equal'):\n",
        "    \"\"\"Input gradient is given data.\"\"\"\n",
        "    if isinstance(indices, list):\n",
        "        pass\n",
        "    elif indices == 'def':\n",
        "        indices = torch.arange(len(input_gradient))\n",
        "    elif indices == 'batch':\n",
        "        indices = torch.randperm(len(input_gradient))[:8]\n",
        "    elif indices == 'topk-1':\n",
        "        _, indices = torch.topk(torch.stack([p.norm() for p in input_gradient], dim=0), 4)\n",
        "    elif indices == 'top10':\n",
        "        _, indices = torch.topk(torch.stack([p.norm() for p in input_gradient], dim=0), 10)\n",
        "    elif indices == 'top50':\n",
        "        _, indices = torch.topk(torch.stack([p.norm() for p in input_gradient], dim=0), 50)\n",
        "    elif indices in ['first', 'first4']:\n",
        "        indices = torch.arange(0, 4)\n",
        "    elif indices == 'first5':\n",
        "        indices = torch.arange(0, 5)\n",
        "    elif indices == 'first10':\n",
        "        indices = torch.arange(0, 10)\n",
        "    elif indices == 'first50':\n",
        "        indices = torch.arange(0, 50)\n",
        "    elif indices == 'last5':\n",
        "        indices = torch.arange(len(input_gradient))[-5:]\n",
        "    elif indices == 'last10':\n",
        "        indices = torch.arange(len(input_gradient))[-10:]\n",
        "    elif indices == 'last50':\n",
        "        indices = torch.arange(len(input_gradient))[-50:]\n",
        "    else:\n",
        "        raise ValueError()\n",
        "\n",
        "    ex = input_gradient[0]\n",
        "    if weights == 'linear':\n",
        "        weights = torch.arange(len(input_gradient), 0, -1, dtype=ex.dtype, device=ex.device) / len(input_gradient)\n",
        "    elif weights == 'exp':\n",
        "        weights = torch.arange(len(input_gradient), 0, -1, dtype=ex.dtype, device=ex.device)\n",
        "        weights = weights.softmax(dim=0)\n",
        "        weights = weights / weights[0]\n",
        "    else:\n",
        "        weights = input_gradient[0].new_ones(len(input_gradient))\n",
        "\n",
        "    total_costs = 0\n",
        "    for trial_gradient in gradients:\n",
        "        pnorm = [0, 0]\n",
        "        costs = 0\n",
        "        if indices == 'topk-2':\n",
        "            _, indices = torch.topk(torch.stack([p.norm().detach() for p in trial_gradient], dim=0), 4)\n",
        "        for i in indices:\n",
        "            if cost_fn == 'l2':\n",
        "                costs += ((trial_gradient[i] - input_gradient[i]).pow(2)).sum() * weights[i]\n",
        "            elif cost_fn == 'l1':\n",
        "                costs += ((trial_gradient[i] - input_gradient[i]).abs()).sum() * weights[i]\n",
        "            elif cost_fn == 'max':\n",
        "                costs += ((trial_gradient[i] - input_gradient[i]).abs()).max() * weights[i]\n",
        "            elif cost_fn == 'sim':\n",
        "                costs -= (trial_gradient[i] * input_gradient[i]).sum() * weights[i]\n",
        "                pnorm[0] += trial_gradient[i].pow(2).sum() * weights[i]\n",
        "                pnorm[1] += input_gradient[i].pow(2).sum() * weights[i]\n",
        "            elif cost_fn == 'simlocal':\n",
        "                costs += 1 - torch.nn.functional.cosine_similarity(trial_gradient[i].flatten(),\n",
        "                                                                   input_gradient[i].flatten(),\n",
        "                                                                   0, 1e-10) * weights[i]\n",
        "        if cost_fn == 'sim':\n",
        "            costs = 1 + costs / pnorm[0].sqrt() / pnorm[1].sqrt()\n",
        "\n",
        "        # Accumulate final costs\n",
        "        total_costs += costs\n",
        "    return total_costs / len(gradients)\n"
      ],
      "outputs": [],
      "execution_count": 65,
      "metadata": {
        "id": "Zma8meMwUmce",
        "executionInfo": {
          "status": "ok",
          "timestamp": 1678918185180,
          "user_tz": -60,
          "elapsed": 259,
          "user": {
            "displayName": "David Del Río Diaz",
            "userId": "12900151453634638293"
          }
        },
        "gather": {
          "logged": 1679311488017
        }
      }
    }
  ],
  "metadata": {
    "colab": {
      "provenance": []
    },
    "accelerator": "GPU",
    "gpuClass": "standard",
    "microsoft": {
      "ms_spell_check": {
        "ms_spell_check_language": "en"
      }
    },
    "widgets": {
      "application/vnd.jupyter.widget-state+json": {
        "d430a7ee05994126bcad97dd4ca4ed91": {
          "model_module": "@jupyter-widgets/base",
          "model_name": "LayoutModel",
          "model_module_version": "1.2.0",
          "state": {
            "_view_module_version": "1.2.0",
            "_model_name": "LayoutModel",
            "grid_row": null,
            "_model_module": "@jupyter-widgets/base",
            "overflow": null,
            "max_height": null,
            "display": null,
            "grid_auto_flow": null,
            "grid_template_rows": null,
            "align_self": null,
            "grid_auto_columns": null,
            "width": null,
            "grid_area": null,
            "align_items": null,
            "_view_name": "LayoutView",
            "left": null,
            "height": null,
            "_view_module": "@jupyter-widgets/base",
            "object_position": null,
            "justify_content": null,
            "bottom": null,
            "max_width": null,
            "border": null,
            "margin": null,
            "order": null,
            "grid_column": null,
            "grid_auto_rows": null,
            "padding": null,
            "grid_template_columns": null,
            "justify_items": null,
            "object_fit": null,
            "visibility": null,
            "_view_count": null,
            "flex_flow": null,
            "min_height": null,
            "top": null,
            "min_width": null,
            "flex": null,
            "_model_module_version": "1.2.0",
            "grid_template_areas": null,
            "overflow_x": null,
            "right": null,
            "overflow_y": null,
            "grid_gap": null,
            "align_content": null
          }
        },
        "b61970cf9b8b4816aa62c71ba7fe1491": {
          "model_module": "@jupyter-widgets/controls",
          "model_name": "DescriptionStyleModel",
          "model_module_version": "1.5.0",
          "state": {
            "_model_module": "@jupyter-widgets/controls",
            "_model_module_version": "1.5.0",
            "_model_name": "DescriptionStyleModel",
            "_view_count": null,
            "_view_module": "@jupyter-widgets/base",
            "_view_module_version": "1.2.0",
            "_view_name": "StyleView",
            "description_width": ""
          }
        },
        "aacc8e137f3346488976901179bfedb5": {
          "model_module": "@jupyter-widgets/controls",
          "model_name": "DescriptionStyleModel",
          "model_module_version": "1.5.0",
          "state": {
            "_model_module": "@jupyter-widgets/controls",
            "_model_module_version": "1.5.0",
            "_model_name": "DescriptionStyleModel",
            "_view_count": null,
            "_view_module": "@jupyter-widgets/base",
            "_view_module_version": "1.2.0",
            "_view_name": "StyleView",
            "description_width": ""
          }
        },
        "ca0f3bb640b745c99012b3788851d310": {
          "model_module": "@jupyter-widgets/controls",
          "model_name": "ProgressStyleModel",
          "model_module_version": "1.5.0",
          "state": {
            "_view_module_version": "1.2.0",
            "_model_name": "ProgressStyleModel",
            "_model_module": "@jupyter-widgets/controls",
            "description_width": "",
            "_view_name": "StyleView",
            "_view_module": "@jupyter-widgets/base",
            "_view_count": null,
            "bar_color": null,
            "_model_module_version": "1.5.0"
          }
        },
        "b6f84d571f7a4f3ba76a1f12f1c09d16": {
          "model_module": "@jupyter-widgets/controls",
          "model_name": "HBoxModel",
          "model_module_version": "1.5.0",
          "state": {
            "_view_module_version": "1.5.0",
            "_model_name": "HBoxModel",
            "_model_module": "@jupyter-widgets/controls",
            "_view_name": "HBoxView",
            "_view_module": "@jupyter-widgets/controls",
            "_dom_classes": [],
            "layout": "IPY_MODEL_1ecd3362b1a343b0899c705d3aaf110e",
            "_view_count": null,
            "_model_module_version": "1.5.0",
            "box_style": "",
            "children": [
              "IPY_MODEL_30c11392c9dd409fb5abb489ccf81161",
              "IPY_MODEL_440d8803c3894f5e830b894974bf7e0b",
              "IPY_MODEL_469658a7ea2d456596d41c7c38d864f9"
            ]
          }
        },
        "30c11392c9dd409fb5abb489ccf81161": {
          "model_module": "@jupyter-widgets/controls",
          "model_name": "HTMLModel",
          "model_module_version": "1.5.0",
          "state": {
            "_view_module_version": "1.5.0",
            "description_tooltip": null,
            "_model_name": "HTMLModel",
            "_model_module": "@jupyter-widgets/controls",
            "_view_name": "HTMLView",
            "_view_module": "@jupyter-widgets/controls",
            "_dom_classes": [],
            "layout": "IPY_MODEL_d430a7ee05994126bcad97dd4ca4ed91",
            "value": "100%",
            "style": "IPY_MODEL_b61970cf9b8b4816aa62c71ba7fe1491",
            "placeholder": "​",
            "_view_count": null,
            "_model_module_version": "1.5.0",
            "description": ""
          }
        },
        "1ecd3362b1a343b0899c705d3aaf110e": {
          "model_module": "@jupyter-widgets/base",
          "model_name": "LayoutModel",
          "model_module_version": "1.2.0",
          "state": {
            "_view_module_version": "1.2.0",
            "_model_name": "LayoutModel",
            "grid_row": null,
            "_model_module": "@jupyter-widgets/base",
            "overflow": null,
            "max_height": null,
            "display": null,
            "grid_auto_flow": null,
            "grid_template_rows": null,
            "align_self": null,
            "grid_auto_columns": null,
            "width": null,
            "grid_area": null,
            "align_items": null,
            "_view_name": "LayoutView",
            "left": null,
            "height": null,
            "_view_module": "@jupyter-widgets/base",
            "object_position": null,
            "justify_content": null,
            "bottom": null,
            "max_width": null,
            "border": null,
            "margin": null,
            "order": null,
            "grid_column": null,
            "grid_auto_rows": null,
            "padding": null,
            "grid_template_columns": null,
            "justify_items": null,
            "object_fit": null,
            "visibility": null,
            "_view_count": null,
            "flex_flow": null,
            "min_height": null,
            "top": null,
            "min_width": null,
            "flex": null,
            "_model_module_version": "1.2.0",
            "grid_template_areas": null,
            "overflow_x": null,
            "right": null,
            "overflow_y": null,
            "grid_gap": null,
            "align_content": null
          }
        },
        "f125b31940b345959c77bb0cac7a7447": {
          "model_module": "@jupyter-widgets/base",
          "model_name": "LayoutModel",
          "model_module_version": "1.2.0",
          "state": {
            "_view_module_version": "1.2.0",
            "_model_name": "LayoutModel",
            "grid_row": null,
            "_model_module": "@jupyter-widgets/base",
            "overflow": null,
            "max_height": null,
            "display": null,
            "grid_auto_flow": null,
            "grid_template_rows": null,
            "align_self": null,
            "grid_auto_columns": null,
            "width": null,
            "grid_area": null,
            "align_items": null,
            "_view_name": "LayoutView",
            "left": null,
            "height": null,
            "_view_module": "@jupyter-widgets/base",
            "object_position": null,
            "justify_content": null,
            "bottom": null,
            "max_width": null,
            "border": null,
            "margin": null,
            "order": null,
            "grid_column": null,
            "grid_auto_rows": null,
            "padding": null,
            "grid_template_columns": null,
            "justify_items": null,
            "object_fit": null,
            "visibility": null,
            "_view_count": null,
            "flex_flow": null,
            "min_height": null,
            "top": null,
            "min_width": null,
            "flex": null,
            "_model_module_version": "1.2.0",
            "grid_template_areas": null,
            "overflow_x": null,
            "right": null,
            "overflow_y": null,
            "grid_gap": null,
            "align_content": null
          }
        },
        "469658a7ea2d456596d41c7c38d864f9": {
          "model_module": "@jupyter-widgets/controls",
          "model_name": "HTMLModel",
          "model_module_version": "1.5.0",
          "state": {
            "_view_module_version": "1.5.0",
            "description_tooltip": null,
            "_model_name": "HTMLModel",
            "_model_module": "@jupyter-widgets/controls",
            "_view_name": "HTMLView",
            "_view_module": "@jupyter-widgets/controls",
            "_dom_classes": [],
            "layout": "IPY_MODEL_f125b31940b345959c77bb0cac7a7447",
            "value": " 30.8M/30.8M [00:00&lt;00:00, 45.0MB/s]",
            "style": "IPY_MODEL_aacc8e137f3346488976901179bfedb5",
            "placeholder": "​",
            "_view_count": null,
            "_model_module_version": "1.5.0",
            "description": ""
          }
        },
        "1e81101610fe40eab20a98f1dcfd4a67": {
          "model_module": "@jupyter-widgets/base",
          "model_name": "LayoutModel",
          "model_module_version": "1.2.0",
          "state": {
            "_view_module_version": "1.2.0",
            "_model_name": "LayoutModel",
            "grid_row": null,
            "_model_module": "@jupyter-widgets/base",
            "overflow": null,
            "max_height": null,
            "display": null,
            "grid_auto_flow": null,
            "grid_template_rows": null,
            "align_self": null,
            "grid_auto_columns": null,
            "width": null,
            "grid_area": null,
            "align_items": null,
            "_view_name": "LayoutView",
            "left": null,
            "height": null,
            "_view_module": "@jupyter-widgets/base",
            "object_position": null,
            "justify_content": null,
            "bottom": null,
            "max_width": null,
            "border": null,
            "margin": null,
            "order": null,
            "grid_column": null,
            "grid_auto_rows": null,
            "padding": null,
            "grid_template_columns": null,
            "justify_items": null,
            "object_fit": null,
            "visibility": null,
            "_view_count": null,
            "flex_flow": null,
            "min_height": null,
            "top": null,
            "min_width": null,
            "flex": null,
            "_model_module_version": "1.2.0",
            "grid_template_areas": null,
            "overflow_x": null,
            "right": null,
            "overflow_y": null,
            "grid_gap": null,
            "align_content": null
          }
        },
        "440d8803c3894f5e830b894974bf7e0b": {
          "model_module": "@jupyter-widgets/controls",
          "model_name": "FloatProgressModel",
          "model_module_version": "1.5.0",
          "state": {
            "_view_module_version": "1.5.0",
            "description_tooltip": null,
            "_model_name": "FloatProgressModel",
            "_model_module": "@jupyter-widgets/controls",
            "max": 32342954,
            "bar_style": "success",
            "_view_name": "ProgressView",
            "_view_module": "@jupyter-widgets/controls",
            "_dom_classes": [],
            "layout": "IPY_MODEL_1e81101610fe40eab20a98f1dcfd4a67",
            "orientation": "horizontal",
            "value": 32342954,
            "style": "IPY_MODEL_ca0f3bb640b745c99012b3788851d310",
            "min": 0,
            "_view_count": null,
            "_model_module_version": "1.5.0",
            "description": ""
          }
        }
      }
    },
    "kernel_info": {
      "name": "python3"
    },
    "language_info": {
      "name": "python",
      "version": "3.8.5",
      "mimetype": "text/x-python",
      "codemirror_mode": {
        "name": "ipython",
        "version": 3
      },
      "pygments_lexer": "ipython3",
      "nbconvert_exporter": "python",
      "file_extension": ".py"
    },
    "kernelspec": {
      "name": "python3",
      "language": "python",
      "display_name": "Python 3 (ipykernel)"
    },
    "nteract": {
      "version": "nteract-front-end@1.0.0"
    }
  },
  "nbformat": 4,
  "nbformat_minor": 0
}