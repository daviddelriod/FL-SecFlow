{
 "cells": [
  {
   "attachments": {},
   "cell_type": "markdown",
   "metadata": {},
   "source": [
    "# Simulation of Secure Multiparty Computation Framework"
   ]
  },
  {
   "attachments": {},
   "cell_type": "markdown",
   "metadata": {},
   "source": [
    "### How does it work?\n",
    "It works like this: your device downloads the current model, improves it by learning from data on your phone, and then summarizes the changes as a small focused update. Only this update to the model is sent to the cloud, using encrypted communication, where it is immediately averaged with other user updates to improve the shared model. All the training data remains on your device, and no individual updates are stored in the cloud.\n",
    "- https://ai.googleblog.com/2017/04/federated-learning-collaborative.html\n",
    "- https://www.youtube.com/watch?v=89BGjQYA0uE Desde el 13:50 Hasta 19:26"
   ]
  },
  {
   "attachments": {},
   "cell_type": "markdown",
   "metadata": {},
   "source": [
    "Hi,\n",
    "You recently answered me in the OpenFL githhub with 3 examples from your repos. I want to connect with you as I see your profile very interesting and with great knowledge about FL. I would like to connect with you as I am developing my university thesis and I think I could learn a lot from you."
   ]
  },
  {
   "attachments": {},
   "cell_type": "markdown",
   "metadata": {},
   "source": [
    "## Libraries"
   ]
  },
  {
   "cell_type": "code",
   "execution_count": 1,
   "metadata": {},
   "outputs": [],
   "source": [
    "import torch\n",
    "#import cv2\n",
    "import tqdm as tqdm\n",
    "\n",
    "import numpy as np\n",
    "import torch.nn as nn\n",
    "import torch.optim as optim\n",
    "from torchvision import models\n",
    "from torch.utils.data import Dataset\n",
    "from torch.utils.data import DataLoader\n",
    "from openfl.interface.interactive_api.federation import Federation\n",
    "from openfl.interface.interactive_api.experiment import TaskInterface, DataInterface, ModelInterface, FLExperiment\n",
    "from torch.optim.lr_scheduler import ReduceLROnPlateau\n",
    "from sklearn.metrics import precision_recall_fscore_support\n",
    "from copy import deepcopy\n",
    "from collections import OrderedDict\n"
   ]
  },
  {
   "cell_type": "code",
   "execution_count": 2,
   "metadata": {},
   "outputs": [],
   "source": [
    "client_id = 'api'\n",
    "cert_dir = 'cert'\n",
    "director_node_fqdn = 'ec2-52-20-29-134.compute-1.amazonaws.com'\n",
    "director_port = 4444\n",
    "\n",
    "federation = Federation(\n",
    "    client_id=client_id,\n",
    "    director_node_fqdn=director_node_fqdn,\n",
    "    director_port=director_port, \n",
    "    tls=False\n",
    ")"
   ]
  },
  {
   "cell_type": "code",
   "execution_count": 11,
   "metadata": {},
   "outputs": [
    {
     "data": {
      "text/plain": [
       "({'env_two': {'shard_info': node_info {\n",
       "     name: \"env_two\"\n",
       "   }\n",
       "   shard_description: \"Chest X-ray dataset, shard number 2 out of 2\"\n",
       "   sample_shape: \"224\"\n",
       "   sample_shape: \"224\"\n",
       "   sample_shape: \"3\"\n",
       "   target_shape: \"224\"\n",
       "   target_shape: \"224\"\n",
       "   target_shape: \"3\",\n",
       "   'is_online': True,\n",
       "   'is_experiment_running': False,\n",
       "   'last_updated': '2023-05-09 00:00:47',\n",
       "   'current_time': '2023-05-09 00:01:07',\n",
       "   'valid_duration': seconds: 120,\n",
       "   'experiment_name': 'ExperimentName Mock'},\n",
       "  'env_one': {'shard_info': node_info {\n",
       "     name: \"env_one\"\n",
       "   }\n",
       "   shard_description: \"Chest X-ray dataset, shard number 1 out of 2\"\n",
       "   sample_shape: \"224\"\n",
       "   sample_shape: \"224\"\n",
       "   sample_shape: \"3\"\n",
       "   target_shape: \"224\"\n",
       "   target_shape: \"224\"\n",
       "   target_shape: \"3\",\n",
       "   'is_online': True,\n",
       "   'is_experiment_running': False,\n",
       "   'last_updated': '2023-05-09 00:00:48',\n",
       "   'current_time': '2023-05-09 00:01:07',\n",
       "   'valid_duration': seconds: 120,\n",
       "   'experiment_name': 'ExperimentName Mock'}},\n",
       " ['224', '224', '3'])"
      ]
     },
     "execution_count": 11,
     "metadata": {},
     "output_type": "execute_result"
    }
   ],
   "source": [
    "shard_registry = federation.get_shard_registry()\n",
    "shard_registry, federation.target_shape"
   ]
  },
  {
   "cell_type": "code",
   "execution_count": 12,
   "metadata": {},
   "outputs": [
    {
     "name": "stdout",
     "output_type": "stream",
     "text": [
      "(224, 224, 3)\n",
      "(224, 224, 3)\n"
     ]
    }
   ],
   "source": [
    "dummy_shard_desc = federation.get_dummy_shard_descriptor(size=2)\n",
    "dummy_shard_dataset = dummy_shard_desc.get_dataset('train')\n",
    "sample, target = dummy_shard_dataset[0]\n",
    "print(sample.shape)\n",
    "print(target.shape)"
   ]
  },
  {
   "attachments": {},
   "cell_type": "markdown",
   "metadata": {},
   "source": [
    "## Data Preparation"
   ]
  },
  {
   "cell_type": "code",
   "execution_count": 13,
   "metadata": {},
   "outputs": [],
   "source": [
    "class TransformedDataset(Dataset):\n",
    "    \"\"\"Image Person ReID Dataset.\"\"\"\n",
    "\n",
    "    def __init__(self, dataset, transform=None, target_transform=None):\n",
    "        \"\"\"Initialize Dataset.\"\"\"\n",
    "        self.dataset = dataset\n",
    "        self.transform = transform\n",
    "        self.target_transform = target_transform\n",
    "\n",
    "    def __len__(self):\n",
    "        \"\"\"Length of dataset.\"\"\"\n",
    "        return len(self.dataset)\n",
    "\n",
    "    def __getitem__(self, index):\n",
    "        img, label = self.dataset[index]\n",
    "        label = self.target_transform(label) if self.target_transform else label\n",
    "        img = self.transform(img) if self.transform else img\n",
    "        return img, label"
   ]
  },
  {
   "cell_type": "code",
   "execution_count": 14,
   "metadata": {},
   "outputs": [],
   "source": [
    "class ChestXrayDataset(DataInterface):\n",
    "    def __init__(self, **kwargs):\n",
    "        self.kwargs = kwargs\n",
    "    \n",
    "    @property\n",
    "    def shard_descriptor(self):\n",
    "        return self._shard_descriptor\n",
    "        \n",
    "    @shard_descriptor.setter\n",
    "    def shard_descriptor(self, shard_descriptor):\n",
    "        \"\"\"\n",
    "        Describe per-collaborator procedures or sharding.\n",
    "\n",
    "        This method will be called during a collaborator initialization.\n",
    "        Local shard_descriptor  will be set by Envoy.\n",
    "        \"\"\"\n",
    "        self._shard_descriptor = shard_descriptor\n",
    "        \n",
    "        self.train_set = TransformedDataset(\n",
    "            self._shard_descriptor.get_dataset('train'),\n",
    "            transform=None\n",
    "        )\n",
    "        self.valid_set = TransformedDataset(\n",
    "            self._shard_descriptor.get_dataset('val'),\n",
    "            transform=None\n",
    "        )\n",
    "        \n",
    "    def get_train_loader(self, **kwargs):\n",
    "        \"\"\"\n",
    "        Output of this method will be provided to tasks with optimizer in contract\n",
    "        \"\"\"\n",
    "        generator=torch.Generator()\n",
    "        generator.manual_seed(0)\n",
    "        return DataLoader(\n",
    "            self.train_set, batch_size=self.kwargs['train_bs'], shuffle=True, generator=generator\n",
    "            )\n",
    "\n",
    "    def get_valid_loader(self, **kwargs):\n",
    "        \"\"\"\n",
    "        Output of this method will be provided to tasks without optimizer in contract\n",
    "        \"\"\"\n",
    "        return DataLoader(self.valid_set, batch_size=self.kwargs['valid_bs'])\n",
    "\n",
    "    def get_train_data_size(self):\n",
    "        \"\"\"\n",
    "        Information for aggregation\n",
    "        \"\"\"\n",
    "        return len(self.train_set)\n",
    "\n",
    "    def get_valid_data_size(self):\n",
    "        \"\"\"\n",
    "        Information for aggregation\n",
    "        \"\"\"\n",
    "        return len(self.valid_set)"
   ]
  },
  {
   "cell_type": "code",
   "execution_count": 15,
   "metadata": {},
   "outputs": [],
   "source": [
    "fed_dataset = ChestXrayDataset(train_bs=32, valid_bs=32)"
   ]
  },
  {
   "attachments": {},
   "cell_type": "markdown",
   "metadata": {},
   "source": [
    "## Describe the model and optimizer"
   ]
  },
  {
   "cell_type": "code",
   "execution_count": 16,
   "metadata": {},
   "outputs": [],
   "source": [
    "class ConvNet(torch.nn.Module):\n",
    "    \"\"\"ConvNetBN.\"\"\"\n",
    "\n",
    "    def __init__(self, width=32, num_classes=2, num_channels=3):\n",
    "        \"\"\"Init with width and num classes.\"\"\"\n",
    "        super().__init__()\n",
    "        self.model = torch.nn.Sequential(OrderedDict([\n",
    "            ('conv0', torch.nn.Conv2d(num_channels, 1 * width, kernel_size=3, padding=1)),\n",
    "            ('bn0', torch.nn.BatchNorm2d(1 * width)),\n",
    "            ('relu0', torch.nn.ReLU()),\n",
    "\n",
    "            ('conv1', torch.nn.Conv2d(1 * width, 2 * width, kernel_size=3, padding=1)),\n",
    "            ('bn1', torch.nn.BatchNorm2d(2 * width)),\n",
    "            ('relu1', torch.nn.ReLU()),\n",
    "\n",
    "            ('conv2', torch.nn.Conv2d(2 * width, 2 * width, kernel_size=3, padding=1)),\n",
    "            ('bn2', torch.nn.BatchNorm2d(2 * width)),\n",
    "            ('relu2', torch.nn.ReLU()),\n",
    "\n",
    "            #('conv3', torch.nn.Conv2d(2 * width, 4 * width, kernel_size=3, padding=1)),\n",
    "            #('bn3', torch.nn.BatchNorm2d(4 * width)),\n",
    "            #('relu3', torch.nn.ReLU()),\n",
    "\n",
    "            #('conv4', torch.nn.Conv2d(4 * width, 4 * width, kernel_size=3, padding=1)),\n",
    "            #('bn4', torch.nn.BatchNorm2d(4 * width)),\n",
    "            #('relu4', torch.nn.ReLU()),\n",
    "\n",
    "            #('conv5', torch.nn.Conv2d(4 * width, 4 * width, kernel_size=3, padding=1)),\n",
    "            #('bn5', torch.nn.BatchNorm2d(4 * width)),\n",
    "            #('relu5', torch.nn.ReLU()),\n",
    "\n",
    "            #('pool0', torch.nn.MaxPool2d(3)),\n",
    "\n",
    "            #('conv6', torch.nn.Conv2d(4 * width, 4 * width, kernel_size=3, padding=1)),\n",
    "            #('bn6', torch.nn.BatchNorm2d(4 * width)),\n",
    "            #('relu6', torch.nn.ReLU()),\n",
    "\n",
    "            #('conv6', torch.nn.Conv2d(4 * width, 4 * width, kernel_size=3, padding=1)),\n",
    "            #('bn6', torch.nn.BatchNorm2d(4 * width)),\n",
    "            #('relu6', torch.nn.ReLU()),\n",
    "\n",
    "            #('conv7', torch.nn.Conv2d(4 * width, 4 * width, kernel_size=3, padding=1)),\n",
    "            #('bn7', torch.nn.BatchNorm2d(4 * width)),\n",
    "            #('relu7', torch.nn.ReLU()),\n",
    "\n",
    "            ('pool1', torch.nn.MaxPool2d(3)),\n",
    "            ('flatten', torch.nn.Flatten()),\n",
    "            ('linear', torch.nn.Linear(10952 * width, num_classes))\n",
    "        ]))\n",
    "\n",
    "    def forward(self, input):\n",
    "        return self.model(input)\n",
    "model_net = ConvNet()"
   ]
  },
  {
   "cell_type": "code",
   "execution_count": 17,
   "metadata": {},
   "outputs": [],
   "source": [
    "params_to_update = []\n",
    "for param in model_net.parameters():\n",
    "    if param.requires_grad == True:\n",
    "        params_to_update.append(param)\n",
    "'''\n",
    "FEDPROX\n",
    "'''        \n",
    "#from openfl.utilities.optimizers.torch import FedProxAdam        \n",
    "#optimizer = FedProxAdam(params_to_update, lr=1e-4, mu=0.01)\n",
    "\n",
    "'''\n",
    "ORIGINALE\n",
    "'''\n",
    "optimizer = optim.Adadelta(params_to_update, lr = 0.05)\n",
    "#optimizer = optim.Adam(params_to_update, lr = 0.01)\n",
    "\n",
    "#optimizer = optim.AdamW(params_to_update, lr=0.001, weight_decay=0.02)\n",
    "#optimizer = optim.SGD(params_to_update, lr=0.01, momentum=0.9, weight_decay=0.0005)\n",
    "\n",
    "#scheduler\n",
    "#scheduler = torch.optim.lr_scheduler.CosineAnnealingLR(optimizer, T_max=num_epochs)\n",
    "def cross_entropy(output, target):\n",
    "    \"\"\"Cross-entropy metric\n",
    "    \"\"\"\n",
    "    #return F.cross_entropy(input=output,target=target)\n",
    "    #return F.binary_cross_entropy_with_logits(input=output,target=target)\n",
    "    criterion = nn.CrossEntropyLoss()\n",
    "    loss = criterion(output, target)\n",
    "    return loss"
   ]
  },
  {
   "cell_type": "code",
   "execution_count": 18,
   "metadata": {},
   "outputs": [],
   "source": [
    "framework_adapter = 'openfl.plugins.frameworks_adapters.pytorch_adapter.FrameworkAdapterPlugin'\n",
    "model_interface = ModelInterface(model=model_net, optimizer=optimizer, framework_plugin=framework_adapter)\n",
    "\n",
    "# Save the initial model state\n",
    "initial_model = deepcopy(model_net)"
   ]
  },
  {
   "cell_type": "code",
   "execution_count": 19,
   "metadata": {},
   "outputs": [],
   "source": [
    "task_interface = TaskInterface()\n",
    "\n",
    "# The Interactive API supports registering functions definied in main module or imported.\n",
    "def function_defined_in_notebook(some_parameter):\n",
    "    print(f'Also I accept a parameter and it is {some_parameter}')\n",
    "\n",
    "# Task interface currently supports only standalone functions.\n",
    "@task_interface.add_kwargs(**{'some_parameter': 42})\n",
    "@task_interface.register_fl_task(model='net_model', data_loader='train_loader',\n",
    "                     device='device', optimizer='optimizer') \n",
    "#@task_interface.set_aggregation_function(FedCurvWeightedAverage())\n",
    "def train(net_model, train_loader, optimizer, device, loss_fn=cross_entropy, some_parameter=None):\n",
    "    scheduler = ReduceLROnPlateau(optimizer, 'min', factor = 0.75, patience = 2)\n",
    "    device='cpu'\n",
    "    function_defined_in_notebook(some_parameter)\n",
    "    \n",
    "    train_loader = tqdm.tqdm(train_loader, desc=\"train\")\n",
    "    losses = []\n",
    "    for epoch in tqdm.tqdm(range(1, 3 + 1)):\n",
    "        train_loss = 0.0\n",
    "        train_loss_min = 10\n",
    "        if scheduler != None:\n",
    "            scheduler.step(train_loss)\n",
    "        \n",
    "        net_model.train()\n",
    "        net_model.to(device)\n",
    "        \n",
    "        for data, target in train_loader:\n",
    "            optimizer.zero_grad()\n",
    "            output = net_model(data)\n",
    "            loss = loss_fn(output, target)\n",
    "            loss.backward()\n",
    "            optimizer.step()   \n",
    "            train_loss += loss.item() * data.size(0)\n",
    "    \n",
    "        mean_train_loss = train_loss/len(train_loader)\n",
    "        losses.append(train_loss)\n",
    "        if train_loss <= train_loss_min:\n",
    "            print('Train loss decreased ({:.6f} --> {:.6f}).  Saving model ...'.format(train_loss_min,train_loss))\n",
    "            torch.save(net_model.state_dict(), 'saved_state.pth')\n",
    "            \n",
    "    return {'train_loss': np.mean(losses),}\n",
    "\n",
    "@task_interface.register_fl_task(model='net_model', data_loader='val_loader', device='device')     \n",
    "def validate(net_model, val_loader, device):\n",
    "    torch.manual_seed(0)\n",
    "    device = torch.device('cpu')\n",
    "    val_loader = tqdm.tqdm(val_loader, desc = \"validate\")\n",
    "    net_model.eval().to(device)\n",
    "    metrics = {'Accuracy':[], 'Precision':[], 'Recall':[], 'F1-Score':[]}\n",
    "    number_correct, number_data = 0, 0\n",
    "    true_labels, predicted_labels = [], []\n",
    "    valid_loss = 0.0\n",
    "\n",
    "    for data, target in val_loader:\n",
    "        output = net_model(data)\n",
    "        loss = cross_entropy(output, target)\n",
    "        valid_loss += loss.item() * data.size(0)\n",
    "        _, pred = torch.max(output, 1) \n",
    "        correct_tensor = pred.eq(target.data.view_as(pred))\n",
    "        correct = np.squeeze(correct_tensor.numpy()) \n",
    "        number_correct += sum(correct)\n",
    "        number_data += correct.shape[0]\n",
    "        true_labels.extend(target.cpu().numpy())\n",
    "        predicted_labels.extend(pred.cpu().numpy())\n",
    "\n",
    "    mean_valid_loss = valid_loss / len(val_loader)\n",
    "    accuracy = (100 * number_correct / number_data)\n",
    "    precision, recall, f1_score, support = precision_recall_fscore_support(\n",
    "        true_labels, predicted_labels, average='weighted')\n",
    "    \n",
    "    metrics['Accuracy'].append(accuracy)\n",
    "    metrics['Precision'].append(precision*100)\n",
    "    metrics['Recall'].append(recall*100)\n",
    "    metrics['F1-Score'].append(f1_score*100)  \n",
    "              \n",
    "    return {'acc': np.mean(metrics['Accuracy']),}"
   ]
  },
  {
   "cell_type": "code",
   "execution_count": 20,
   "metadata": {},
   "outputs": [],
   "source": [
    "experiment_name = 'ChestXray_EPOCHS2_ROUND5_CNN'\n",
    "fl_experiment = FLExperiment(federation=federation, experiment_name=experiment_name)"
   ]
  },
  {
   "attachments": {},
   "cell_type": "markdown",
   "metadata": {},
   "source": [
    "Now we are ready to define our dataset and model to perform federated learning on. The dataset should be composed of a numpy arrayWe start with a simple fully connected model that is trained on the MNIST dataset. "
   ]
  },
  {
   "cell_type": "code",
   "execution_count": 21,
   "metadata": {},
   "outputs": [
    {
     "data": {
      "text/html": [
       "<pre style=\"white-space:pre;overflow-x:auto;line-height:normal;font-family:Menlo,'DejaVu Sans Mono',consolas,'Courier New',monospace\"><span style=\"color: #7fbfbf; text-decoration-color: #7fbfbf\">[00:01:45] </span><span style=\"color: #000080; text-decoration-color: #000080\">INFO    </span> Building <span style=\"color: #800000; text-decoration-color: #800000\">🡆</span> Object <span style=\"color: #800000; text-decoration-color: #800000\">CloudpickleSerializer</span> from <span style=\"color: #800000; text-decoration-color: #800000\">openfl.plugins.interface_serializer.cloudpickle_serializer</span> Module.                  <a href=\"file:///opt/conda/envs/pytorch/lib/python3.10/site-packages/openfl/federated/plan/plan.py\" target=\"_blank\"><span style=\"color: #7f7f7f; text-decoration-color: #7f7f7f\">plan.py</span></a><span style=\"color: #7f7f7f; text-decoration-color: #7f7f7f\">:</span><a href=\"file:///opt/conda/envs/pytorch/lib/python3.10/site-packages/openfl/federated/plan/plan.py#171\" target=\"_blank\"><span style=\"color: #7f7f7f; text-decoration-color: #7f7f7f\">171</span></a>\n",
       "</pre>\n"
      ],
      "text/plain": [
       "\u001b[2;36m[00:01:45]\u001b[0m\u001b[2;36m \u001b[0m\u001b[34mINFO    \u001b[0m Building \u001b[31m🡆\u001b[0m Object \u001b[31mCloudpickleSerializer\u001b[0m from \u001b[31mopenfl.plugins.interface_serializer.cloudpickle_serializer\u001b[0m Module.                  \u001b]8;id=372679;file:///opt/conda/envs/pytorch/lib/python3.10/site-packages/openfl/federated/plan/plan.py\u001b\\\u001b[2mplan.py\u001b[0m\u001b]8;;\u001b\\\u001b[2m:\u001b[0m\u001b]8;id=839205;file:///opt/conda/envs/pytorch/lib/python3.10/site-packages/openfl/federated/plan/plan.py#171\u001b\\\u001b[2m171\u001b[0m\u001b]8;;\u001b\\\n"
      ]
     },
     "metadata": {},
     "output_type": "display_data"
    },
    {
     "data": {
      "text/html": [
       "<pre style=\"white-space:pre;overflow-x:auto;line-height:normal;font-family:Menlo,'DejaVu Sans Mono',consolas,'Courier New',monospace\"><span style=\"color: #7fbfbf; text-decoration-color: #7fbfbf\">           </span><span style=\"color: #000080; text-decoration-color: #000080\">INFO    </span> Building <span style=\"color: #800000; text-decoration-color: #800000\">🡆</span> Object <span style=\"color: #800000; text-decoration-color: #800000\">FrameworkAdapterPlugin</span> from <span style=\"color: #800000; text-decoration-color: #800000\">openfl.plugins.frameworks_adapters.pytorch_adapter</span> Module.                         <a href=\"file:///opt/conda/envs/pytorch/lib/python3.10/site-packages/openfl/federated/plan/plan.py\" target=\"_blank\"><span style=\"color: #7f7f7f; text-decoration-color: #7f7f7f\">plan.py</span></a><span style=\"color: #7f7f7f; text-decoration-color: #7f7f7f\">:</span><a href=\"file:///opt/conda/envs/pytorch/lib/python3.10/site-packages/openfl/federated/plan/plan.py#171\" target=\"_blank\"><span style=\"color: #7f7f7f; text-decoration-color: #7f7f7f\">171</span></a>\n",
       "</pre>\n"
      ],
      "text/plain": [
       "\u001b[2;36m          \u001b[0m\u001b[2;36m \u001b[0m\u001b[34mINFO    \u001b[0m Building \u001b[31m🡆\u001b[0m Object \u001b[31mFrameworkAdapterPlugin\u001b[0m from \u001b[31mopenfl.plugins.frameworks_adapters.pytorch_adapter\u001b[0m Module.                         \u001b]8;id=298560;file:///opt/conda/envs/pytorch/lib/python3.10/site-packages/openfl/federated/plan/plan.py\u001b\\\u001b[2mplan.py\u001b[0m\u001b]8;;\u001b\\\u001b[2m:\u001b[0m\u001b]8;id=293870;file:///opt/conda/envs/pytorch/lib/python3.10/site-packages/openfl/federated/plan/plan.py#171\u001b\\\u001b[2m171\u001b[0m\u001b]8;;\u001b\\\n"
      ]
     },
     "metadata": {},
     "output_type": "display_data"
    },
    {
     "name": "stderr",
     "output_type": "stream",
     "text": [
      "/opt/conda/envs/pytorch/lib/python3.10/site-packages/_distutils_hack/__init__.py:33: UserWarning: Setuptools is replacing distutils.\n",
      "  warnings.warn(\"Setuptools is replacing distutils.\")\n"
     ]
    },
    {
     "data": {
      "text/html": [
       "<pre style=\"white-space:pre;overflow-x:auto;line-height:normal;font-family:Menlo,'DejaVu Sans Mono',consolas,'Courier New',monospace\"><span style=\"color: #7fbfbf; text-decoration-color: #7fbfbf\">[00:01:46] </span><span style=\"color: #000080; text-decoration-color: #000080\">INFO    </span> Starting experiment!                                                                                                       <a href=\"file:///opt/conda/envs/pytorch/lib/python3.10/site-packages/openfl/interface/interactive_api/experiment.py\" target=\"_blank\"><span style=\"color: #7f7f7f; text-decoration-color: #7f7f7f\">experiment.py</span></a><span style=\"color: #7f7f7f; text-decoration-color: #7f7f7f\">:</span><a href=\"file:///opt/conda/envs/pytorch/lib/python3.10/site-packages/openfl/interface/interactive_api/experiment.py#245\" target=\"_blank\"><span style=\"color: #7f7f7f; text-decoration-color: #7f7f7f\">245</span></a>\n",
       "</pre>\n"
      ],
      "text/plain": [
       "\u001b[2;36m[00:01:46]\u001b[0m\u001b[2;36m \u001b[0m\u001b[34mINFO    \u001b[0m Starting experiment!                                                                                                       \u001b]8;id=989879;file:///opt/conda/envs/pytorch/lib/python3.10/site-packages/openfl/interface/interactive_api/experiment.py\u001b\\\u001b[2mexperiment.py\u001b[0m\u001b]8;;\u001b\\\u001b[2m:\u001b[0m\u001b]8;id=229563;file:///opt/conda/envs/pytorch/lib/python3.10/site-packages/openfl/interface/interactive_api/experiment.py#245\u001b\\\u001b[2m245\u001b[0m\u001b]8;;\u001b\\\n"
      ]
     },
     "metadata": {},
     "output_type": "display_data"
    },
    {
     "data": {
      "text/html": [
       "<pre style=\"white-space:pre;overflow-x:auto;line-height:normal;font-family:Menlo,'DejaVu Sans Mono',consolas,'Courier New',monospace\"><span style=\"color: #7fbfbf; text-decoration-color: #7fbfbf\">           </span><span style=\"color: #000080; text-decoration-color: #000080\">INFO    </span> FL-Plan hash is <span style=\"color: #000080; text-decoration-color: #000080\">29a17986fefed7ad952c58aef99c34c59b680519395f8056c0dab330b8e3a8b9342c4b44fb013f0e1303625b81b0f76d</span>                 <a href=\"file:///opt/conda/envs/pytorch/lib/python3.10/site-packages/openfl/federated/plan/plan.py\" target=\"_blank\"><span style=\"color: #7f7f7f; text-decoration-color: #7f7f7f\">plan.py</span></a><span style=\"color: #7f7f7f; text-decoration-color: #7f7f7f\">:</span><a href=\"file:///opt/conda/envs/pytorch/lib/python3.10/site-packages/openfl/federated/plan/plan.py#235\" target=\"_blank\"><span style=\"color: #7f7f7f; text-decoration-color: #7f7f7f\">235</span></a>\n",
       "</pre>\n"
      ],
      "text/plain": [
       "\u001b[2;36m          \u001b[0m\u001b[2;36m \u001b[0m\u001b[34mINFO    \u001b[0m FL-Plan hash is \u001b[34m29a17986fefed7ad952c58aef99c34c59b680519395f8056c0dab330b8e3a8b9342c4b44fb013f0e1303625b81b0f76d\u001b[0m                 \u001b]8;id=567372;file:///opt/conda/envs/pytorch/lib/python3.10/site-packages/openfl/federated/plan/plan.py\u001b\\\u001b[2mplan.py\u001b[0m\u001b]8;;\u001b\\\u001b[2m:\u001b[0m\u001b]8;id=603930;file:///opt/conda/envs/pytorch/lib/python3.10/site-packages/openfl/federated/plan/plan.py#235\u001b\\\u001b[2m235\u001b[0m\u001b]8;;\u001b\\\n"
      ]
     },
     "metadata": {},
     "output_type": "display_data"
    },
    {
     "data": {
      "text/html": [
       "<pre style=\"white-space:pre;overflow-x:auto;line-height:normal;font-family:Menlo,'DejaVu Sans Mono',consolas,'Courier New',monospace\"><span style=\"color: #7fbfbf; text-decoration-color: #7fbfbf\">           </span><span style=\"color: #000080; text-decoration-color: #000080\">INFO    </span> FL-Plan hash is <span style=\"color: #000080; text-decoration-color: #000080\">29a17986fefed7ad952c58aef99c34c59b680519395f8056c0dab330b8e3a8b9342c4b44fb013f0e1303625b81b0f76d</span>                 <a href=\"file:///opt/conda/envs/pytorch/lib/python3.10/site-packages/openfl/federated/plan/plan.py\" target=\"_blank\"><span style=\"color: #7f7f7f; text-decoration-color: #7f7f7f\">plan.py</span></a><span style=\"color: #7f7f7f; text-decoration-color: #7f7f7f\">:</span><a href=\"file:///opt/conda/envs/pytorch/lib/python3.10/site-packages/openfl/federated/plan/plan.py#235\" target=\"_blank\"><span style=\"color: #7f7f7f; text-decoration-color: #7f7f7f\">235</span></a>\n",
       "</pre>\n"
      ],
      "text/plain": [
       "\u001b[2;36m          \u001b[0m\u001b[2;36m \u001b[0m\u001b[34mINFO    \u001b[0m FL-Plan hash is \u001b[34m29a17986fefed7ad952c58aef99c34c59b680519395f8056c0dab330b8e3a8b9342c4b44fb013f0e1303625b81b0f76d\u001b[0m                 \u001b]8;id=199395;file:///opt/conda/envs/pytorch/lib/python3.10/site-packages/openfl/federated/plan/plan.py\u001b\\\u001b[2mplan.py\u001b[0m\u001b]8;;\u001b\\\u001b[2m:\u001b[0m\u001b]8;id=929087;file:///opt/conda/envs/pytorch/lib/python3.10/site-packages/openfl/federated/plan/plan.py#235\u001b\\\u001b[2m235\u001b[0m\u001b]8;;\u001b\\\n"
      ]
     },
     "metadata": {},
     "output_type": "display_data"
    },
    {
     "data": {
      "text/html": [
       "<pre style=\"white-space:pre;overflow-x:auto;line-height:normal;font-family:Menlo,'DejaVu Sans Mono',consolas,'Courier New',monospace\"><span style=\"color: #7fbfbf; text-decoration-color: #7fbfbf\">           </span><span style=\"color: #000080; text-decoration-color: #000080\">INFO    </span> Building <span style=\"color: #800000; text-decoration-color: #800000\">🡆</span> Object <span style=\"color: #800000; text-decoration-color: #800000\">CoreTaskRunner</span> from <span style=\"color: #800000; text-decoration-color: #800000\">openfl.federated.task.task_runner</span> Module.                                                  <a href=\"file:///opt/conda/envs/pytorch/lib/python3.10/site-packages/openfl/federated/plan/plan.py\" target=\"_blank\"><span style=\"color: #7f7f7f; text-decoration-color: #7f7f7f\">plan.py</span></a><span style=\"color: #7f7f7f; text-decoration-color: #7f7f7f\">:</span><a href=\"file:///opt/conda/envs/pytorch/lib/python3.10/site-packages/openfl/federated/plan/plan.py#171\" target=\"_blank\"><span style=\"color: #7f7f7f; text-decoration-color: #7f7f7f\">171</span></a>\n",
       "</pre>\n"
      ],
      "text/plain": [
       "\u001b[2;36m          \u001b[0m\u001b[2;36m \u001b[0m\u001b[34mINFO    \u001b[0m Building \u001b[31m🡆\u001b[0m Object \u001b[31mCoreTaskRunner\u001b[0m from \u001b[31mopenfl.federated.task.task_runner\u001b[0m Module.                                                  \u001b]8;id=812291;file:///opt/conda/envs/pytorch/lib/python3.10/site-packages/openfl/federated/plan/plan.py\u001b\\\u001b[2mplan.py\u001b[0m\u001b]8;;\u001b\\\u001b[2m:\u001b[0m\u001b]8;id=241399;file:///opt/conda/envs/pytorch/lib/python3.10/site-packages/openfl/federated/plan/plan.py#171\u001b\\\u001b[2m171\u001b[0m\u001b]8;;\u001b\\\n"
      ]
     },
     "metadata": {},
     "output_type": "display_data"
    },
    {
     "data": {
      "text/html": [
       "<pre style=\"white-space:pre;overflow-x:auto;line-height:normal;font-family:Menlo,'DejaVu Sans Mono',consolas,'Courier New',monospace\"><span style=\"color: #7fbfbf; text-decoration-color: #7fbfbf\">           </span><span style=\"color: #000080; text-decoration-color: #000080\">INFO    </span> Building <span style=\"color: #800000; text-decoration-color: #800000\">🡆</span> Object <span style=\"color: #800000; text-decoration-color: #800000\">FrameworkAdapterPlugin</span> from <span style=\"color: #800000; text-decoration-color: #800000\">openfl.plugins.frameworks_adapters.pytorch_adapter</span> Module.                         <a href=\"file:///opt/conda/envs/pytorch/lib/python3.10/site-packages/openfl/federated/plan/plan.py\" target=\"_blank\"><span style=\"color: #7f7f7f; text-decoration-color: #7f7f7f\">plan.py</span></a><span style=\"color: #7f7f7f; text-decoration-color: #7f7f7f\">:</span><a href=\"file:///opt/conda/envs/pytorch/lib/python3.10/site-packages/openfl/federated/plan/plan.py#171\" target=\"_blank\"><span style=\"color: #7f7f7f; text-decoration-color: #7f7f7f\">171</span></a>\n",
       "</pre>\n"
      ],
      "text/plain": [
       "\u001b[2;36m          \u001b[0m\u001b[2;36m \u001b[0m\u001b[34mINFO    \u001b[0m Building \u001b[31m🡆\u001b[0m Object \u001b[31mFrameworkAdapterPlugin\u001b[0m from \u001b[31mopenfl.plugins.frameworks_adapters.pytorch_adapter\u001b[0m Module.                         \u001b]8;id=431396;file:///opt/conda/envs/pytorch/lib/python3.10/site-packages/openfl/federated/plan/plan.py\u001b\\\u001b[2mplan.py\u001b[0m\u001b]8;;\u001b\\\u001b[2m:\u001b[0m\u001b]8;id=952280;file:///opt/conda/envs/pytorch/lib/python3.10/site-packages/openfl/federated/plan/plan.py#171\u001b\\\u001b[2m171\u001b[0m\u001b]8;;\u001b\\\n"
      ]
     },
     "metadata": {},
     "output_type": "display_data"
    },
    {
     "data": {
      "text/html": [
       "<pre style=\"white-space:pre;overflow-x:auto;line-height:normal;font-family:Menlo,'DejaVu Sans Mono',consolas,'Courier New',monospace\"><span style=\"color: #7fbfbf; text-decoration-color: #7fbfbf\">           </span><span style=\"color: #800000; text-decoration-color: #800000\">WARNING </span> tried to remove tensor: __opt_state_needed not present in the tensor dict                                                       <a href=\"file:///opt/conda/envs/pytorch/lib/python3.10/site-packages/openfl/utilities/utils.py\" target=\"_blank\"><span style=\"color: #7f7f7f; text-decoration-color: #7f7f7f\">utils.py</span></a><span style=\"color: #7f7f7f; text-decoration-color: #7f7f7f\">:</span><a href=\"file:///opt/conda/envs/pytorch/lib/python3.10/site-packages/openfl/utilities/utils.py#172\" target=\"_blank\"><span style=\"color: #7f7f7f; text-decoration-color: #7f7f7f\">172</span></a>\n",
       "</pre>\n"
      ],
      "text/plain": [
       "\u001b[2;36m          \u001b[0m\u001b[2;36m \u001b[0m\u001b[31mWARNING \u001b[0m tried to remove tensor: __opt_state_needed not present in the tensor dict                                                       \u001b]8;id=174615;file:///opt/conda/envs/pytorch/lib/python3.10/site-packages/openfl/utilities/utils.py\u001b\\\u001b[2mutils.py\u001b[0m\u001b]8;;\u001b\\\u001b[2m:\u001b[0m\u001b]8;id=261164;file:///opt/conda/envs/pytorch/lib/python3.10/site-packages/openfl/utilities/utils.py#172\u001b\\\u001b[2m172\u001b[0m\u001b]8;;\u001b\\\n"
      ]
     },
     "metadata": {},
     "output_type": "display_data"
    },
    {
     "data": {
      "text/html": [
       "<pre style=\"white-space:pre;overflow-x:auto;line-height:normal;font-family:Menlo,'DejaVu Sans Mono',consolas,'Courier New',monospace\"><span style=\"color: #7fbfbf; text-decoration-color: #7fbfbf\">           </span><span style=\"color: #800000; text-decoration-color: #800000\">WARNING </span> tried to remove tensor: __opt_state_needed not present in the tensor dict                                                       <a href=\"file:///opt/conda/envs/pytorch/lib/python3.10/site-packages/openfl/utilities/utils.py\" target=\"_blank\"><span style=\"color: #7f7f7f; text-decoration-color: #7f7f7f\">utils.py</span></a><span style=\"color: #7f7f7f; text-decoration-color: #7f7f7f\">:</span><a href=\"file:///opt/conda/envs/pytorch/lib/python3.10/site-packages/openfl/utilities/utils.py#172\" target=\"_blank\"><span style=\"color: #7f7f7f; text-decoration-color: #7f7f7f\">172</span></a>\n",
       "</pre>\n"
      ],
      "text/plain": [
       "\u001b[2;36m          \u001b[0m\u001b[2;36m \u001b[0m\u001b[31mWARNING \u001b[0m tried to remove tensor: __opt_state_needed not present in the tensor dict                                                       \u001b]8;id=773648;file:///opt/conda/envs/pytorch/lib/python3.10/site-packages/openfl/utilities/utils.py\u001b\\\u001b[2mutils.py\u001b[0m\u001b]8;;\u001b\\\u001b[2m:\u001b[0m\u001b]8;id=533383;file:///opt/conda/envs/pytorch/lib/python3.10/site-packages/openfl/utilities/utils.py#172\u001b\\\u001b[2m172\u001b[0m\u001b]8;;\u001b\\\n"
      ]
     },
     "metadata": {},
     "output_type": "display_data"
    },
    {
     "data": {
      "text/html": [
       "<pre style=\"white-space:pre;overflow-x:auto;line-height:normal;font-family:Menlo,'DejaVu Sans Mono',consolas,'Courier New',monospace\"><span style=\"color: #7fbfbf; text-decoration-color: #7fbfbf\">           </span><span style=\"color: #000080; text-decoration-color: #000080\">INFO    </span> SetNewExperiment                                                                                                      <a href=\"file:///opt/conda/envs/pytorch/lib/python3.10/site-packages/openfl/transport/grpc/director_client.py\" target=\"_blank\"><span style=\"color: #7f7f7f; text-decoration-color: #7f7f7f\">director_client.py</span></a><span style=\"color: #7f7f7f; text-decoration-color: #7f7f7f\">:</span><a href=\"file:///opt/conda/envs/pytorch/lib/python3.10/site-packages/openfl/transport/grpc/director_client.py#209\" target=\"_blank\"><span style=\"color: #7f7f7f; text-decoration-color: #7f7f7f\">209</span></a>\n",
       "</pre>\n"
      ],
      "text/plain": [
       "\u001b[2;36m          \u001b[0m\u001b[2;36m \u001b[0m\u001b[34mINFO    \u001b[0m SetNewExperiment                                                                                                      \u001b]8;id=561939;file:///opt/conda/envs/pytorch/lib/python3.10/site-packages/openfl/transport/grpc/director_client.py\u001b\\\u001b[2mdirector_client.py\u001b[0m\u001b]8;;\u001b\\\u001b[2m:\u001b[0m\u001b]8;id=627064;file:///opt/conda/envs/pytorch/lib/python3.10/site-packages/openfl/transport/grpc/director_client.py#209\u001b\\\u001b[2m209\u001b[0m\u001b]8;;\u001b\\\n"
      ]
     },
     "metadata": {},
     "output_type": "display_data"
    },
    {
     "data": {
      "text/html": [
       "<pre style=\"white-space:pre;overflow-x:auto;line-height:normal;font-family:Menlo,'DejaVu Sans Mono',consolas,'Courier New',monospace\"><span style=\"color: #7fbfbf; text-decoration-color: #7fbfbf\">           </span><span style=\"color: #000080; text-decoration-color: #000080\">INFO    </span> Experiment was submitted to the director!                                                                                  <a href=\"file:///opt/conda/envs/pytorch/lib/python3.10/site-packages/openfl/interface/interactive_api/experiment.py\" target=\"_blank\"><span style=\"color: #7f7f7f; text-decoration-color: #7f7f7f\">experiment.py</span></a><span style=\"color: #7f7f7f; text-decoration-color: #7f7f7f\">:</span><a href=\"file:///opt/conda/envs/pytorch/lib/python3.10/site-packages/openfl/interface/interactive_api/experiment.py#259\" target=\"_blank\"><span style=\"color: #7f7f7f; text-decoration-color: #7f7f7f\">259</span></a>\n",
       "</pre>\n"
      ],
      "text/plain": [
       "\u001b[2;36m          \u001b[0m\u001b[2;36m \u001b[0m\u001b[34mINFO    \u001b[0m Experiment was submitted to the director!                                                                                  \u001b]8;id=983404;file:///opt/conda/envs/pytorch/lib/python3.10/site-packages/openfl/interface/interactive_api/experiment.py\u001b\\\u001b[2mexperiment.py\u001b[0m\u001b]8;;\u001b\\\u001b[2m:\u001b[0m\u001b]8;id=548122;file:///opt/conda/envs/pytorch/lib/python3.10/site-packages/openfl/interface/interactive_api/experiment.py#259\u001b\\\u001b[2m259\u001b[0m\u001b]8;;\u001b\\\n"
      ]
     },
     "metadata": {},
     "output_type": "display_data"
    }
   ],
   "source": [
    "# The following command zips the workspace and python requirements to be transfered to collaborator nodes\n",
    "fl_experiment.start(\n",
    "    model_provider=model_interface, \n",
    "    task_keeper=task_interface,\n",
    "    data_loader=fed_dataset,\n",
    "    rounds_to_train=5,\n",
    "    opt_treatment='CONTINUE_GLOBAL'\n",
    ")"
   ]
  },
  {
   "cell_type": "code",
   "execution_count": 22,
   "metadata": {},
   "outputs": [
    {
     "ename": "_MultiThreadedRendezvous",
     "evalue": "<_MultiThreadedRendezvous of RPC that terminated with:\n\tstatus = StatusCode.UNAVAILABLE\n\tdetails = \"Socket closed\"\n\tdebug_error_string = \"UNKNOWN:Error received from peer ipv4:172.31.0.197:4444 {grpc_message:\"Socket closed\", grpc_status:14, created_time:\"2023-05-09T00:24:10.24546262+00:00\"}\"\n>",
     "output_type": "error",
     "traceback": [
      "\u001b[0;31m---------------------------------------------------------------------------\u001b[0m",
      "\u001b[0;31m_MultiThreadedRendezvous\u001b[0m                  Traceback (most recent call last)",
      "Cell \u001b[0;32mIn[22], line 4\u001b[0m\n\u001b[1;32m      1\u001b[0m \u001b[39m# If user want to stop IPython session, then reconnect and check how experiment is going\u001b[39;00m\n\u001b[1;32m      2\u001b[0m \u001b[39m# fl_experiment.restore_experiment_state(model_interface)\u001b[39;00m\n\u001b[0;32m----> 4\u001b[0m fl_experiment\u001b[39m.\u001b[39;49mstream_metrics(tensorboard_logs\u001b[39m=\u001b[39;49m\u001b[39mTrue\u001b[39;49;00m)\n",
      "File \u001b[0;32m/opt/conda/envs/pytorch/lib/python3.10/site-packages/openfl/interface/interactive_api/experiment.py:143\u001b[0m, in \u001b[0;36mFLExperiment.stream_metrics\u001b[0;34m(self, tensorboard_logs)\u001b[0m\n\u001b[1;32m    141\u001b[0m \u001b[39mif\u001b[39;00m \u001b[39mnot\u001b[39;00m \u001b[39mself\u001b[39m\u001b[39m.\u001b[39m_assert_experiment_submitted():\n\u001b[1;32m    142\u001b[0m     \u001b[39mreturn\u001b[39;00m\n\u001b[0;32m--> 143\u001b[0m \u001b[39mfor\u001b[39;00m metric_message_dict \u001b[39min\u001b[39;00m \u001b[39mself\u001b[39m\u001b[39m.\u001b[39mfederation\u001b[39m.\u001b[39mdir_client\u001b[39m.\u001b[39mstream_metrics(\u001b[39mself\u001b[39m\u001b[39m.\u001b[39mexperiment_name):\n\u001b[1;32m    144\u001b[0m     \u001b[39mself\u001b[39m\u001b[39m.\u001b[39mlogger\u001b[39m.\u001b[39mmetric(\n\u001b[1;32m    145\u001b[0m         \u001b[39mf\u001b[39m\u001b[39m'\u001b[39m\u001b[39mRound \u001b[39m\u001b[39m{\u001b[39;00mmetric_message_dict[\u001b[39m\"\u001b[39m\u001b[39mround\u001b[39m\u001b[39m\"\u001b[39m]\u001b[39m}\u001b[39;00m\u001b[39m, \u001b[39m\u001b[39m'\u001b[39m\n\u001b[1;32m    146\u001b[0m         \u001b[39mf\u001b[39m\u001b[39m'\u001b[39m\u001b[39mcollaborator \u001b[39m\u001b[39m{\u001b[39;00mmetric_message_dict[\u001b[39m\"\u001b[39m\u001b[39mmetric_origin\u001b[39m\u001b[39m\"\u001b[39m]\u001b[39m}\u001b[39;00m\u001b[39m \u001b[39m\u001b[39m'\u001b[39m\n\u001b[1;32m    147\u001b[0m         \u001b[39mf\u001b[39m\u001b[39m'\u001b[39m\u001b[39m{\u001b[39;00mmetric_message_dict[\u001b[39m\"\u001b[39m\u001b[39mtask_name\u001b[39m\u001b[39m\"\u001b[39m]\u001b[39m}\u001b[39;00m\u001b[39m result \u001b[39m\u001b[39m'\u001b[39m\n\u001b[1;32m    148\u001b[0m         \u001b[39mf\u001b[39m\u001b[39m'\u001b[39m\u001b[39m{\u001b[39;00mmetric_message_dict[\u001b[39m\"\u001b[39m\u001b[39mmetric_name\u001b[39m\u001b[39m\"\u001b[39m]\u001b[39m}\u001b[39;00m\u001b[39m:\u001b[39m\u001b[39m\\t\u001b[39;00m\u001b[39m{\u001b[39;00mmetric_message_dict[\u001b[39m\"\u001b[39m\u001b[39mmetric_value\u001b[39m\u001b[39m\"\u001b[39m]\u001b[39m:\u001b[39;00m\u001b[39mf\u001b[39m\u001b[39m}\u001b[39;00m\u001b[39m'\u001b[39m)\n\u001b[1;32m    150\u001b[0m     \u001b[39mif\u001b[39;00m tensorboard_logs:\n",
      "File \u001b[0;32m/opt/conda/envs/pytorch/lib/python3.10/site-packages/openfl/transport/grpc/director_client.py:277\u001b[0m, in \u001b[0;36mDirectorClient.stream_metrics\u001b[0;34m(self, experiment_name)\u001b[0m\n\u001b[1;32m    275\u001b[0m \u001b[39m\u001b[39m\u001b[39m\"\"\"Stream metrics RPC.\"\"\"\u001b[39;00m\n\u001b[1;32m    276\u001b[0m request \u001b[39m=\u001b[39m director_pb2\u001b[39m.\u001b[39mGetMetricStreamRequest(experiment_name\u001b[39m=\u001b[39mexperiment_name)\n\u001b[0;32m--> 277\u001b[0m \u001b[39mfor\u001b[39;00m metric_message \u001b[39min\u001b[39;00m \u001b[39mself\u001b[39m\u001b[39m.\u001b[39mstub\u001b[39m.\u001b[39mGetMetricStream(request):\n\u001b[1;32m    278\u001b[0m     \u001b[39myield\u001b[39;00m {\n\u001b[1;32m    279\u001b[0m         \u001b[39m'\u001b[39m\u001b[39mmetric_origin\u001b[39m\u001b[39m'\u001b[39m: metric_message\u001b[39m.\u001b[39mmetric_origin,\n\u001b[1;32m    280\u001b[0m         \u001b[39m'\u001b[39m\u001b[39mtask_name\u001b[39m\u001b[39m'\u001b[39m: metric_message\u001b[39m.\u001b[39mtask_name,\n\u001b[0;32m   (...)\u001b[0m\n\u001b[1;32m    283\u001b[0m         \u001b[39m'\u001b[39m\u001b[39mround\u001b[39m\u001b[39m'\u001b[39m: metric_message\u001b[39m.\u001b[39mround,\n\u001b[1;32m    284\u001b[0m     }\n",
      "File \u001b[0;32m/opt/conda/envs/pytorch/lib/python3.10/site-packages/grpc/_channel.py:426\u001b[0m, in \u001b[0;36m_Rendezvous.__next__\u001b[0;34m(self)\u001b[0m\n\u001b[1;32m    425\u001b[0m \u001b[39mdef\u001b[39;00m \u001b[39m__next__\u001b[39m(\u001b[39mself\u001b[39m):\n\u001b[0;32m--> 426\u001b[0m     \u001b[39mreturn\u001b[39;00m \u001b[39mself\u001b[39;49m\u001b[39m.\u001b[39;49m_next()\n",
      "File \u001b[0;32m/opt/conda/envs/pytorch/lib/python3.10/site-packages/grpc/_channel.py:826\u001b[0m, in \u001b[0;36m_MultiThreadedRendezvous._next\u001b[0;34m(self)\u001b[0m\n\u001b[1;32m    824\u001b[0m     \u001b[39mraise\u001b[39;00m \u001b[39mStopIteration\u001b[39;00m()\n\u001b[1;32m    825\u001b[0m \u001b[39melif\u001b[39;00m \u001b[39mself\u001b[39m\u001b[39m.\u001b[39m_state\u001b[39m.\u001b[39mcode \u001b[39mis\u001b[39;00m \u001b[39mnot\u001b[39;00m \u001b[39mNone\u001b[39;00m:\n\u001b[0;32m--> 826\u001b[0m     \u001b[39mraise\u001b[39;00m \u001b[39mself\u001b[39m\n",
      "\u001b[0;31m_MultiThreadedRendezvous\u001b[0m: <_MultiThreadedRendezvous of RPC that terminated with:\n\tstatus = StatusCode.UNAVAILABLE\n\tdetails = \"Socket closed\"\n\tdebug_error_string = \"UNKNOWN:Error received from peer ipv4:172.31.0.197:4444 {grpc_message:\"Socket closed\", grpc_status:14, created_time:\"2023-05-09T00:24:10.24546262+00:00\"}\"\n>"
     ]
    }
   ],
   "source": [
    "# If user want to stop IPython session, then reconnect and check how experiment is going\n",
    "# fl_experiment.restore_experiment_state(model_interface)\n",
    "\n",
    "fl_experiment.stream_metrics(tensorboard_logs=True)"
   ]
  }
 ],
 "metadata": {
  "kernelspec": {
   "display_name": "Python 3 (ipykernel)",
   "language": "python",
   "name": "python3"
  },
  "language_info": {
   "codemirror_mode": {
    "name": "ipython",
    "version": 3
   },
   "file_extension": ".py",
   "mimetype": "text/x-python",
   "name": "python",
   "nbconvert_exporter": "python",
   "pygments_lexer": "ipython3",
   "version": "3.10.10"
  },
  "vscode": {
   "interpreter": {
    "hash": "6d69f63ea15b6bb008b8d31206bc050e6263a4c89b8d4a8f3080901fb7da99ce"
   }
  }
 },
 "nbformat": 4,
 "nbformat_minor": 4
}
