{
 "cells": [
  {
   "cell_type": "code",
   "execution_count": 3,
   "metadata": {},
   "outputs": [],
   "source": [
    "#!pip install opendatasets\n",
    "import opendatasets as od\n",
    "import pandas\n",
    "import os"
   ]
  },
  {
   "cell_type": "code",
   "execution_count": 2,
   "metadata": {},
   "outputs": [
    {
     "name": "stdout",
     "output_type": "stream",
     "text": [
      "Downloading chest-xray-pneumonia.zip to .\\chest-xray-pneumonia\n"
     ]
    },
    {
     "name": "stderr",
     "output_type": "stream",
     "text": [
      "100%|██████████| 2.29G/2.29G [04:25<00:00, 9.27MB/s]\n"
     ]
    },
    {
     "name": "stdout",
     "output_type": "stream",
     "text": [
      "\n"
     ]
    }
   ],
   "source": [
    "od.download(\"https://www.kaggle.com/datasets/paultimothymooney/chest-xray-pneumonia\")"
   ]
  },
  {
   "cell_type": "code",
   "execution_count": 36,
   "metadata": {},
   "outputs": [],
   "source": [
    "import stat\n",
    "\n",
    "def onerror(func, path, exc_info):\n",
    "    \"\"\"\n",
    "    Error handler for ``shutil.rmtree``.\n",
    "\n",
    "    If the error is due to an access error (read only file)\n",
    "    it attempts to add write permission and then retries.\n",
    "\n",
    "    If the error is for another reason it re-raises the error.\n",
    "    \n",
    "    Usage : ``shutil.rmtree(path, onerror=onerror)``\n",
    "    \"\"\"\n",
    "    # Is the error an access error?\n",
    "    if not os.access(path, os.W_OK):\n",
    "        os.chmod(path, stat.S_IWUSR)\n",
    "        func(path)\n",
    "    else:\n",
    "        raise"
   ]
  },
  {
   "cell_type": "code",
   "execution_count": 41,
   "metadata": {},
   "outputs": [
    {
     "data": {
      "text/plain": [
       "'c:\\\\Users\\\\clash\\\\Desktop\\\\4\\\\TFG\\\\Secure-FL-Flow\\\\envoy\\\\chest-xray-pneumonia/chest_xray/train'"
      ]
     },
     "execution_count": 41,
     "metadata": {},
     "output_type": "execute_result"
    }
   ],
   "source": [
    "import shutil\n",
    "\n",
    "current_dir = os.getcwd()\n",
    "\n",
    "dir_path1 = 'chest-xray-pneumonia/chest_xray/train'\n",
    "dir_path2 = '/chest-xray-pneumonia/chest_xray/chest_xray'\n",
    "absolute_path = os.path.join(current_dir, dir_path1)\n",
    "absolute_path\n",
    "#shutil.rmtree(absolute_path, onerror=onerror)\n"
   ]
  },
  {
   "cell_type": "code",
   "execution_count": 49,
   "metadata": {},
   "outputs": [],
   "source": [
    "import torch\n",
    "import torchvision.datasets as datasets\n",
    "import torchvision.transforms as transforms\n",
    "\n",
    "current_dir = os.getcwd()\n",
    "\n",
    "tr_path = 'chest-xray-pneumonia/chest_xray/train'\n",
    "val_path = 'chest-xray-pneumonia/chest_xray/val'\n",
    "te_path = 'chest-xray-pneumonia/chest_xray/test'\n",
    "\n",
    "train_path = os.path.join(current_dir, tr_path)\n",
    "valid_path = os.path.join(current_dir, val_path)\n",
    "test_path = os.path.join(current_dir, te_path)\n",
    "\n",
    "\n",
    "train_transform = transforms.Compose([\n",
    "    transforms.RandomRotation(50),\n",
    "    transforms.ColorJitter(brightness=0.2, contrast=0, saturation=0, hue=0),\n",
    "    transforms.RandomAffine(0, translate=(0.1, 0.1)),\n",
    "    transforms.RandomHorizontalFlip(p=1),\n",
    "    transforms.Resize((150,150)),\n",
    "    transforms.Grayscale(),\n",
    "    transforms.ToTensor(),\n",
    "    transforms.Normalize((0.5), (0.5))])\n",
    "\n",
    "val_test_transform = transforms.Compose([\n",
    "                  transforms.Resize((150,150)),\n",
    "                  transforms.Grayscale(),\n",
    "                  transforms.ToTensor(),\n",
    "                  transforms.Normalize((0.5), (0.5))])\n",
    "\n",
    "train_dataset = datasets.ImageFolder((train_path), transform=train_transform)\n",
    "val_dataset = datasets.ImageFolder((valid_path), transform=val_test_transform)\n",
    "test_dataset = datasets.ImageFolder((test_path), transform=val_test_transform)\n",
    "\n",
    "# Create data loaders to load the data in batches\n",
    "val_test_data = torch.utils.data.ConcatDataset([val_dataset, test_dataset])\n",
    "\n",
    "train_loader = torch.utils.data.DataLoader(train_dataset, batch_size=None, shuffle=True)\n",
    "val_test_loader = torch.utils.data.DataLoader(val_test_data, batch_size=None, shuffle=False)\n",
    "\n",
    "# Extract the images and labels from the data loaders\n",
    "x_train, y_train = zip(*[(x, y) for x, y in train_loader])\n",
    "x_test, y_test = zip(*[(x, y) for x, y in val_test_loader])"
   ]
  }
 ],
 "metadata": {
  "kernelspec": {
   "display_name": "TFG-FL",
   "language": "python",
   "name": "python3"
  },
  "language_info": {
   "codemirror_mode": {
    "name": "ipython",
    "version": 3
   },
   "file_extension": ".py",
   "mimetype": "text/x-python",
   "name": "python",
   "nbconvert_exporter": "python",
   "pygments_lexer": "ipython3",
   "version": "3.7.12"
  },
  "orig_nbformat": 4,
  "vscode": {
   "interpreter": {
    "hash": "6d69f63ea15b6bb008b8d31206bc050e6263a4c89b8d4a8f3080901fb7da99ce"
   }
  }
 },
 "nbformat": 4,
 "nbformat_minor": 2
}
